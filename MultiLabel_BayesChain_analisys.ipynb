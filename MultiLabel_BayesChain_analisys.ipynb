{
 "cells": [
  {
   "cell_type": "code",
   "execution_count": 1,
   "outputs": [],
   "source": [
    "import numpy as np\n",
    "from collections import defaultdict\n",
    "import os\n",
    "from typing import (NamedTuple)\n",
    "\n",
    "from random import shuffle\n",
    "\n",
    "from sklearn.metrics import accuracy_score\n",
    "from sklearn.naive_bayes import GaussianNB\n",
    "from sklearn.preprocessing import OneHotEncoder"
   ],
   "metadata": {
    "collapsed": false
   }
  },
  {
   "cell_type": "code",
   "execution_count": 3,
   "outputs": [],
   "source": [
    "class Data(NamedTuple):\n",
    "    attributes: list\n",
    "    sample_class: list\n",
    "\n",
    "def read_amphibians_data_():\n",
    "    directory_path = \"data_sets/amphibians/\"\n",
    "    file_name = \"dataset.csv\"\n",
    "    filepath = os.path.join(directory_path, file_name)\n",
    "    data = []\n",
    "    with open(filepath, 'r') as file:\n",
    "        next(file)  # Pomija pierwszą linię\n",
    "        next(file)  # Pomija drugą linię\n",
    "        for line in file:\n",
    "            line = line.split(';')\n",
    "            attributes = line[2:16]\n",
    "            sample_class = line[16:]\n",
    "            data.append(Data(attributes,sample_class))\n",
    "    return data\n",
    "\n",
    "def split_amphibians_data(data):\n",
    "    shuffle(data)\n",
    "    train_size = 4 * len(data) // 5\n",
    "    train_data = data[:train_size]\n",
    "    test_data = data[train_size:]\n",
    "    return train_data, test_data\n",
    "def read_anuran_data_():\n",
    "    pass\n",
    "\n",
    "class NaiveBayes:\n",
    "    def __init__(self):\n",
    "        self.prior = None #prawdopodobienstwo a'priori\n",
    "        self.likelihood = None #prawdopodobienstwo warunkowe\n",
    "\n",
    "    def fit(self, X, y, smoothing=1):\n",
    "        self.prior = defaultdict(int)\n",
    "        self.likelihood = {}\n",
    "\n",
    "        for label in y:\n",
    "            self.prior[label] += 1 #liczba wystapien etykiet klas\n",
    "\n",
    "        for label in np.unique(y): #prawdopodobieństwa warunkowe dla poszczególnych cech\n",
    "            indices = np.where(y == label)[0]\n",
    "            self.likelihood[label] = (X[indices].sum(axis=0) + smoothing) / (len(indices) + 2 * smoothing)\n",
    "\n",
    "    def predict(self, X):\n",
    "        if self.prior is None or self.likelihood is None:\n",
    "            raise ValueError(\"Error. You cannot predict class without training\")\n",
    "\n",
    "        posteriors = []\n",
    "        for x in X:\n",
    "            posterior = self.prior.copy()\n",
    "            for label, likelihood_label in self.likelihood.items():\n",
    "                for i, bool_value in enumerate(x):\n",
    "                    posterior[label] *= likelihood_label[i] if bool_value else (\n",
    "                            1 - likelihood_label[i])\n",
    "            sum_posterior = sum(posterior.values())\n",
    "            for label in posterior:\n",
    "                if posterior[label] == float('inf'):\n",
    "                    posterior[label] = 1.0\n",
    "                else:\n",
    "                    posterior[label] /= sum_posterior\n",
    "            posteriors.append(posterior.copy())\n",
    "\n",
    "        return np.array([max(prediction, key=prediction.get)\n",
    "                         for prediction in posteriors])\n",
    "\n",
    "\n",
    "def compare_Bayes(X_train, y_train, X_test, y_test):\n",
    "    clf = GaussianNB()\n",
    "    clf.fit(X_train, y_train)\n",
    "    y_pred = clf.predict(X_test)\n",
    "\n",
    "    accuracy = accuracy_score(y_test, y_pred)\n",
    "\n",
    "    return accuracy"
   ],
   "metadata": {
    "collapsed": false
   }
  },
  {
   "cell_type": "code",
   "execution_count": 5,
   "outputs": [
    {
     "name": "stdout",
     "output_type": "stream",
     "text": [
      "[['600' '1' '1' ... '0' '0' '1']\n",
      " ['700' '1' '5' ... '1' '0' '1']\n",
      " ['200' '1' '5' ... '1' '0' '1']\n",
      " ...\n",
      " ['500' '1' '1' ... '5' '0' '1']\n",
      " ['300' '1' '12' ... '0' '0' '1']\n",
      " ['300' '1' '12' ... '1' '0' '1']]\n",
      "[['0' '0' '0' ... '0' '0' '0\\n']\n",
      " ['0' '1' '1' ... '0' '1' '0\\n']\n",
      " ['0' '1' '1' ... '0' '1' '0\\n']\n",
      " ...\n",
      " ['1' '1' '1' ... '0' '1' '0\\n']\n",
      " ['0' '1' '1' ... '0' '0' '0\\n']\n",
      " ['0' '1' '1' ... '0' '0' '0\\n']]\n"
     ]
    }
   ],
   "source": [
    "    data = read_amphibians_data_()\n",
    "    #train_data, test_data = split_amphibians_data(data)\n",
    "    #convert data to numpy array and show it\n",
    "    #X = np.array([d.attributes for d in data])\n",
    "    #y = np.array([d.sample_class for d in data])\n",
    "    print(X)\n",
    "    print(y)\n"
   ],
   "metadata": {
    "collapsed": false
   }
  },
  {
   "cell_type": "code",
   "execution_count": null,
   "outputs": [],
   "source": [],
   "metadata": {
    "collapsed": false
   }
  }
 ],
 "metadata": {
  "kernelspec": {
   "display_name": "Python 3",
   "language": "python",
   "name": "python3"
  },
  "language_info": {
   "codemirror_mode": {
    "name": "ipython",
    "version": 2
   },
   "file_extension": ".py",
   "mimetype": "text/x-python",
   "name": "python",
   "nbconvert_exporter": "python",
   "pygments_lexer": "ipython2",
   "version": "2.7.6"
  }
 },
 "nbformat": 4,
 "nbformat_minor": 0
}
