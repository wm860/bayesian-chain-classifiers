{
 "cells": [
  {
   "cell_type": "code",
   "execution_count": 4,
   "metadata": {
    "collapsed": true
   },
   "outputs": [],
   "source": [
    "from scipy.io import arff\n",
    "import pandas as pd"
   ]
  },
  {
   "cell_type": "code",
   "execution_count": 6,
   "outputs": [
    {
     "data": {
      "text/plain": "  Integer;Categorical;Numerical;Numerical;Categorical;Categorical;Categorical;Categorical;Categorical;Categorical;Categorical;Numerical;Ordinal;Ordinal;Categorical;Categorical;Label 1;Label 2;Label 3;Label 4;Label 5;Label 6;Label 7\n0  ID;Motorway;SR;NR;TR;VR;SUR1;SUR2;SUR3;UR;FR;O...                                                                                                                                                                                   \n1  1;A1;600;1;1;4;6;2;10;0;0;50;0;0;0;1;0;0;0;0;0...                                                                                                                                                                                   \n2  2;A1;700;1;5;1;10;6;10;3;1;75;1;1;0;1;0;1;1;0;...                                                                                                                                                                                   \n3  3;A1;200;1;5;1;10;6;10;3;4;75;1;1;0;1;0;1;1;0;...                                                                                                                                                                                   \n4  4;A1;300;1;5;0;6;10;2;3;4;25;0;0;0;1;0;0;1;0;0...                                                                                                                                                                                   ",
      "text/html": "<div>\n<style scoped>\n    .dataframe tbody tr th:only-of-type {\n        vertical-align: middle;\n    }\n\n    .dataframe tbody tr th {\n        vertical-align: top;\n    }\n\n    .dataframe thead th {\n        text-align: right;\n    }\n</style>\n<table border=\"1\" class=\"dataframe\">\n  <thead>\n    <tr style=\"text-align: right;\">\n      <th></th>\n      <th>Integer;Categorical;Numerical;Numerical;Categorical;Categorical;Categorical;Categorical;Categorical;Categorical;Categorical;Numerical;Ordinal;Ordinal;Categorical;Categorical;Label 1;Label 2;Label 3;Label 4;Label 5;Label 6;Label 7</th>\n    </tr>\n  </thead>\n  <tbody>\n    <tr>\n      <th>0</th>\n      <td>ID;Motorway;SR;NR;TR;VR;SUR1;SUR2;SUR3;UR;FR;O...</td>\n    </tr>\n    <tr>\n      <th>1</th>\n      <td>1;A1;600;1;1;4;6;2;10;0;0;50;0;0;0;1;0;0;0;0;0...</td>\n    </tr>\n    <tr>\n      <th>2</th>\n      <td>2;A1;700;1;5;1;10;6;10;3;1;75;1;1;0;1;0;1;1;0;...</td>\n    </tr>\n    <tr>\n      <th>3</th>\n      <td>3;A1;200;1;5;1;10;6;10;3;4;75;1;1;0;1;0;1;1;0;...</td>\n    </tr>\n    <tr>\n      <th>4</th>\n      <td>4;A1;300;1;5;0;6;10;2;3;4;25;0;0;0;1;0;0;1;0;0...</td>\n    </tr>\n  </tbody>\n</table>\n</div>"
     },
     "execution_count": 6,
     "metadata": {},
     "output_type": "execute_result"
    }
   ],
   "source": [
    "#open dataset.csv\n",
    "df = pd.read_csv('./data_sets/amphibians/dataset.csv')\n",
    "df.head()"
   ],
   "metadata": {
    "collapsed": false
   }
  },
  {
   "cell_type": "code",
   "execution_count": null,
   "outputs": [],
   "source": [
    "data = arff.loadarff('file.arff')\n",
    "df = pd.DataFrame(data[0])\n",
    "df.head()"
   ],
   "metadata": {
    "collapsed": false
   }
  }
 ],
 "metadata": {
  "kernelspec": {
   "display_name": "Python 3",
   "language": "python",
   "name": "python3"
  },
  "language_info": {
   "codemirror_mode": {
    "name": "ipython",
    "version": 2
   },
   "file_extension": ".py",
   "mimetype": "text/x-python",
   "name": "python",
   "nbconvert_exporter": "python",
   "pygments_lexer": "ipython2",
   "version": "2.7.6"
  }
 },
 "nbformat": 4,
 "nbformat_minor": 0
}
