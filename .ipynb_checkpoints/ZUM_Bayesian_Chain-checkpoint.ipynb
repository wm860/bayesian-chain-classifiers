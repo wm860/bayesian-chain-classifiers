{
 "nbformat": 4,
 "nbformat_minor": 0,
 "metadata": {
  "colab": {
   "provenance": [],
   "toc_visible": true
  },
  "kernelspec": {
   "name": "python3",
   "display_name": "Python 3 (ipykernel)",
   "language": "python"
  },
  "language_info": {
   "name": "python"
  }
 },
 "cells": [
  {
   "cell_type": "markdown",
   "source": [
    "# **Dokumentacja końcowa projektu ZUM**\n",
    "\n",
    "*Wojciech Makos*\n",
    "\n",
    "*Jakub Kliszko*"
   ],
   "metadata": {
    "id": "yGvBFoI5REPv"
   }
  },
  {
   "cell_type": "markdown",
   "source": [
    "### **Temat projektu:**\n",
    "\n",
    "### Tworzenie modeli klasyfikacji wieloetykietowej przez zastosowanie dekompozycji na wiele powiązanych zadań klasyfikacji jednoetykietowych zgodnie z metodą bayesowskiego łańcucha klasyfikatorów. Porównanie z algorytmami klasyfikacji wieloetykietowej dostępnymi w środowisku R lub Python.\n",
    "\n",
    "(Bayes chain classifier for multi-label classification)\n"
   ],
   "metadata": {
    "id": "IZbNuBg2RIZe"
   }
  },
  {
   "cell_type": "markdown",
   "source": [
    "### 1. Interpretacja tematu projektu\n",
    "\n",
    "Głównym celem projektu jest implementacja algorytmu służącego do klasyfikacji przykładów posiadających więcej niż jedną etykietę. Każdy przykład ma przypisany zestaw binarnych (lub wieloklasowych) znaczników. Jednym ze sposobów stworzenia modelu umożliwiającego predykcje na bazie przykładów wieloetykietowych jest dokonanie transformacji tej bazy zgodnie z metodą łańcucha klasyfikatorów. Metoda ta polega na wykorzystaniu koncepcji związanej z sekwencyjnym tworzeniem modeli klasyfikacji binarnej, w której to dla każdego kolejnego modelu klasyfikacji dodaje się do zbioru atrybutów predykcje etykiet poprzednich modeli wykorzystanych przy wcześniej rozważanych etykietach, w poprzednich ogniwach łańcucha. Dzięki temu każdy kolejny model estymuje tylko jedną etykietę dla zbioru przykładów. Tym samym wykorzystana jest informacja o zależności między poszczególnymi etykietami. Kolejność predykcji dla następujących po sobie etykiet jest istotna i zwykle ma wpływ na końcowy wynik. Dobór kolejności ogniw łańcucha dla predykcji kolejnych etykiet będzie ustalana na podstawie sieci bayesowskiej utworzonej na podstawie zależności między poszczególnymi etykietami.\n",
    "Aby dopełnić projekt, wstępnie wybranym klasyfikatorem dla każdego z modeli będzie gaussowski klasyfikator bayesa.\n"
   ],
   "metadata": {
    "id": "Yzp76YC8RsBk"
   }
  },
  {
   "cell_type": "markdown",
   "source": [
    "### 2.\tOpis części implementacyjnej\n",
    "Projekt będzie realizowany w języku Python. Poniżej przedstawiono kolejne etapy implementacji:\n"
   ],
   "metadata": {
    "id": "AZLFMk7UYjKO"
   }
  },
  {
   "cell_type": "markdown",
   "source": [
    "\n",
    "### 2.1\tPrzygotowanie danych\n",
    "W tym etapie wczytane zostały przykłady z plików o rozszerzeniu .csv. Najpierw analizie zostanie poddany plik pochodzący z portalu UCI Machine Learning Repository: https://archive.ics.uci.edu/dataset/406/anuran+calls+mfccs.\n",
    "\n",
    "Dane umożliwiają rozpoznawanie gatunków anuranów (żab) na podstawie dźwięków, które wydają. Ten zestaw danych został utworzony na podstawie segmentacji 60 nagrań audio należących do 4 różnych rodzin, 8 rodzajów i 10 gatunków. Każdy dźwięk odpowiada jednemu okazowi (przykładowi). Dane składają się z ponad 7000 przykładów. Każdy przykład posiada 3 etykiety określające gatunek, rodzaj i rodzinę płazów. Przykłady składają się z 22 atrybutów - współczynników MFCC, które to są wynikami analizy sygnału dźwiękowego. Podane dane mają charakter numeryczny. Spodziewane jest istnienie silnej zależności pomiędzy poszczególnymi etykietami klas.\n"
   ],
   "metadata": {
    "id": "HA3RhhfuVjdh"
   }
  },
  {
   "cell_type": "code",
   "source": [
    "import numpy as np\n",
    "import pandas as pd\n",
    "\n",
    "\n",
    "def read_anuran_data(file_path):\n",
    "    df = pd.read_csv(file_path, index_col=False)\n",
    "    df = df.drop(columns=[\"RecordID\"])\n",
    "    n_classes = 3\n",
    "    return df.iloc[:, :-n_classes], df.iloc[:, -n_classes:]"
   ],
   "metadata": {
    "id": "dBJ3W1QRV_VP",
    "ExecuteTime": {
     "end_time": "2024-06-03T19:13:37.930930Z",
     "start_time": "2024-06-03T19:13:37.911808Z"
    }
   },
   "outputs": [],
   "execution_count": 223
  },
  {
   "cell_type": "markdown",
   "source": "**proszę wstawić ścieżkę pliku, w zależności od miejsca wgrania danych**",
   "metadata": {
    "id": "gsWg---FySQR"
   }
  },
  {
   "cell_type": "code",
   "source": [
    "file_path = 'data_sets/anuran/Frogs_MFCCs.csv'\n",
    "\n",
    "X, y = read_anuran_data(file_path)\n",
    "X.head()"
   ],
   "metadata": {
    "colab": {
     "base_uri": "https://localhost:8080/",
     "height": 291
    },
    "id": "BkMrwh8UhRox",
    "outputId": "4d81cdd4-67a9-4c99-c80a-1598a11dedf8",
    "ExecuteTime": {
     "end_time": "2024-06-03T19:13:38.978118Z",
     "start_time": "2024-06-03T19:13:38.764084Z"
    }
   },
   "outputs": [
    {
     "data": {
      "text/plain": [
       "   MFCCs_ 1  MFCCs_ 2  MFCCs_ 3  MFCCs_ 4  MFCCs_ 5  MFCCs_ 6  MFCCs_ 7  \\\n",
       "0       1.0  0.152936 -0.105586  0.200722  0.317201  0.260764  0.100945   \n",
       "1       1.0  0.171534 -0.098975  0.268425  0.338672  0.268353  0.060835   \n",
       "2       1.0  0.152317 -0.082973  0.287128  0.276014  0.189867  0.008714   \n",
       "3       1.0  0.224392  0.118985  0.329432  0.372088  0.361005  0.015501   \n",
       "4       1.0  0.087817 -0.068345  0.306967  0.330923  0.249144  0.006884   \n",
       "\n",
       "   MFCCs_ 8  MFCCs_ 9  MFCCs_10  ...  MFCCs_13  MFCCs_14  MFCCs_15  MFCCs_16  \\\n",
       "0 -0.150063 -0.171128  0.124676  ... -0.156436  0.082245  0.135752 -0.024017   \n",
       "1 -0.222475 -0.207693  0.170883  ... -0.254341  0.022786  0.163320  0.012022   \n",
       "2 -0.242234 -0.219153  0.232538  ... -0.237384  0.050791  0.207338  0.083536   \n",
       "3 -0.194347 -0.098181  0.270375  ... -0.317084 -0.011567  0.100413 -0.050224   \n",
       "4 -0.265423 -0.172700  0.266434  ... -0.298524  0.037439  0.219153  0.062837   \n",
       "\n",
       "   MFCCs_17  MFCCs_18  MFCCs_19  MFCCs_20  MFCCs_21  MFCCs_22  \n",
       "0 -0.108351 -0.077623 -0.009568  0.057684  0.118680  0.014038  \n",
       "1 -0.090974 -0.056510 -0.035303  0.020140  0.082263  0.029056  \n",
       "2 -0.050691 -0.023590 -0.066722 -0.025083  0.099108  0.077162  \n",
       "3 -0.136009 -0.177037 -0.130498 -0.054766 -0.018691  0.023954  \n",
       "4 -0.048885 -0.053074 -0.088550 -0.031346  0.108610  0.079244  \n",
       "\n",
       "[5 rows x 22 columns]"
      ],
      "text/html": [
       "<div>\n",
       "<style scoped>\n",
       "    .dataframe tbody tr th:only-of-type {\n",
       "        vertical-align: middle;\n",
       "    }\n",
       "\n",
       "    .dataframe tbody tr th {\n",
       "        vertical-align: top;\n",
       "    }\n",
       "\n",
       "    .dataframe thead th {\n",
       "        text-align: right;\n",
       "    }\n",
       "</style>\n",
       "<table border=\"1\" class=\"dataframe\">\n",
       "  <thead>\n",
       "    <tr style=\"text-align: right;\">\n",
       "      <th></th>\n",
       "      <th>MFCCs_ 1</th>\n",
       "      <th>MFCCs_ 2</th>\n",
       "      <th>MFCCs_ 3</th>\n",
       "      <th>MFCCs_ 4</th>\n",
       "      <th>MFCCs_ 5</th>\n",
       "      <th>MFCCs_ 6</th>\n",
       "      <th>MFCCs_ 7</th>\n",
       "      <th>MFCCs_ 8</th>\n",
       "      <th>MFCCs_ 9</th>\n",
       "      <th>MFCCs_10</th>\n",
       "      <th>...</th>\n",
       "      <th>MFCCs_13</th>\n",
       "      <th>MFCCs_14</th>\n",
       "      <th>MFCCs_15</th>\n",
       "      <th>MFCCs_16</th>\n",
       "      <th>MFCCs_17</th>\n",
       "      <th>MFCCs_18</th>\n",
       "      <th>MFCCs_19</th>\n",
       "      <th>MFCCs_20</th>\n",
       "      <th>MFCCs_21</th>\n",
       "      <th>MFCCs_22</th>\n",
       "    </tr>\n",
       "  </thead>\n",
       "  <tbody>\n",
       "    <tr>\n",
       "      <th>0</th>\n",
       "      <td>1.0</td>\n",
       "      <td>0.152936</td>\n",
       "      <td>-0.105586</td>\n",
       "      <td>0.200722</td>\n",
       "      <td>0.317201</td>\n",
       "      <td>0.260764</td>\n",
       "      <td>0.100945</td>\n",
       "      <td>-0.150063</td>\n",
       "      <td>-0.171128</td>\n",
       "      <td>0.124676</td>\n",
       "      <td>...</td>\n",
       "      <td>-0.156436</td>\n",
       "      <td>0.082245</td>\n",
       "      <td>0.135752</td>\n",
       "      <td>-0.024017</td>\n",
       "      <td>-0.108351</td>\n",
       "      <td>-0.077623</td>\n",
       "      <td>-0.009568</td>\n",
       "      <td>0.057684</td>\n",
       "      <td>0.118680</td>\n",
       "      <td>0.014038</td>\n",
       "    </tr>\n",
       "    <tr>\n",
       "      <th>1</th>\n",
       "      <td>1.0</td>\n",
       "      <td>0.171534</td>\n",
       "      <td>-0.098975</td>\n",
       "      <td>0.268425</td>\n",
       "      <td>0.338672</td>\n",
       "      <td>0.268353</td>\n",
       "      <td>0.060835</td>\n",
       "      <td>-0.222475</td>\n",
       "      <td>-0.207693</td>\n",
       "      <td>0.170883</td>\n",
       "      <td>...</td>\n",
       "      <td>-0.254341</td>\n",
       "      <td>0.022786</td>\n",
       "      <td>0.163320</td>\n",
       "      <td>0.012022</td>\n",
       "      <td>-0.090974</td>\n",
       "      <td>-0.056510</td>\n",
       "      <td>-0.035303</td>\n",
       "      <td>0.020140</td>\n",
       "      <td>0.082263</td>\n",
       "      <td>0.029056</td>\n",
       "    </tr>\n",
       "    <tr>\n",
       "      <th>2</th>\n",
       "      <td>1.0</td>\n",
       "      <td>0.152317</td>\n",
       "      <td>-0.082973</td>\n",
       "      <td>0.287128</td>\n",
       "      <td>0.276014</td>\n",
       "      <td>0.189867</td>\n",
       "      <td>0.008714</td>\n",
       "      <td>-0.242234</td>\n",
       "      <td>-0.219153</td>\n",
       "      <td>0.232538</td>\n",
       "      <td>...</td>\n",
       "      <td>-0.237384</td>\n",
       "      <td>0.050791</td>\n",
       "      <td>0.207338</td>\n",
       "      <td>0.083536</td>\n",
       "      <td>-0.050691</td>\n",
       "      <td>-0.023590</td>\n",
       "      <td>-0.066722</td>\n",
       "      <td>-0.025083</td>\n",
       "      <td>0.099108</td>\n",
       "      <td>0.077162</td>\n",
       "    </tr>\n",
       "    <tr>\n",
       "      <th>3</th>\n",
       "      <td>1.0</td>\n",
       "      <td>0.224392</td>\n",
       "      <td>0.118985</td>\n",
       "      <td>0.329432</td>\n",
       "      <td>0.372088</td>\n",
       "      <td>0.361005</td>\n",
       "      <td>0.015501</td>\n",
       "      <td>-0.194347</td>\n",
       "      <td>-0.098181</td>\n",
       "      <td>0.270375</td>\n",
       "      <td>...</td>\n",
       "      <td>-0.317084</td>\n",
       "      <td>-0.011567</td>\n",
       "      <td>0.100413</td>\n",
       "      <td>-0.050224</td>\n",
       "      <td>-0.136009</td>\n",
       "      <td>-0.177037</td>\n",
       "      <td>-0.130498</td>\n",
       "      <td>-0.054766</td>\n",
       "      <td>-0.018691</td>\n",
       "      <td>0.023954</td>\n",
       "    </tr>\n",
       "    <tr>\n",
       "      <th>4</th>\n",
       "      <td>1.0</td>\n",
       "      <td>0.087817</td>\n",
       "      <td>-0.068345</td>\n",
       "      <td>0.306967</td>\n",
       "      <td>0.330923</td>\n",
       "      <td>0.249144</td>\n",
       "      <td>0.006884</td>\n",
       "      <td>-0.265423</td>\n",
       "      <td>-0.172700</td>\n",
       "      <td>0.266434</td>\n",
       "      <td>...</td>\n",
       "      <td>-0.298524</td>\n",
       "      <td>0.037439</td>\n",
       "      <td>0.219153</td>\n",
       "      <td>0.062837</td>\n",
       "      <td>-0.048885</td>\n",
       "      <td>-0.053074</td>\n",
       "      <td>-0.088550</td>\n",
       "      <td>-0.031346</td>\n",
       "      <td>0.108610</td>\n",
       "      <td>0.079244</td>\n",
       "    </tr>\n",
       "  </tbody>\n",
       "</table>\n",
       "<p>5 rows × 22 columns</p>\n",
       "</div>"
      ]
     },
     "execution_count": 224,
     "metadata": {},
     "output_type": "execute_result"
    }
   ],
   "execution_count": 224
  },
  {
   "cell_type": "code",
   "source": [
    "y.head()"
   ],
   "metadata": {
    "colab": {
     "base_uri": "https://localhost:8080/",
     "height": 206
    },
    "id": "e5JbOoqEhUQA",
    "outputId": "ed654b22-42fa-46b0-b477-5f44b4fed707",
    "ExecuteTime": {
     "end_time": "2024-06-03T19:13:39.009991Z",
     "start_time": "2024-06-03T19:13:38.978118Z"
    }
   },
   "outputs": [
    {
     "data": {
      "text/plain": [
       "            Family      Genus         Species\n",
       "0  Leptodactylidae  Adenomera  AdenomeraAndre\n",
       "1  Leptodactylidae  Adenomera  AdenomeraAndre\n",
       "2  Leptodactylidae  Adenomera  AdenomeraAndre\n",
       "3  Leptodactylidae  Adenomera  AdenomeraAndre\n",
       "4  Leptodactylidae  Adenomera  AdenomeraAndre"
      ],
      "text/html": [
       "<div>\n",
       "<style scoped>\n",
       "    .dataframe tbody tr th:only-of-type {\n",
       "        vertical-align: middle;\n",
       "    }\n",
       "\n",
       "    .dataframe tbody tr th {\n",
       "        vertical-align: top;\n",
       "    }\n",
       "\n",
       "    .dataframe thead th {\n",
       "        text-align: right;\n",
       "    }\n",
       "</style>\n",
       "<table border=\"1\" class=\"dataframe\">\n",
       "  <thead>\n",
       "    <tr style=\"text-align: right;\">\n",
       "      <th></th>\n",
       "      <th>Family</th>\n",
       "      <th>Genus</th>\n",
       "      <th>Species</th>\n",
       "    </tr>\n",
       "  </thead>\n",
       "  <tbody>\n",
       "    <tr>\n",
       "      <th>0</th>\n",
       "      <td>Leptodactylidae</td>\n",
       "      <td>Adenomera</td>\n",
       "      <td>AdenomeraAndre</td>\n",
       "    </tr>\n",
       "    <tr>\n",
       "      <th>1</th>\n",
       "      <td>Leptodactylidae</td>\n",
       "      <td>Adenomera</td>\n",
       "      <td>AdenomeraAndre</td>\n",
       "    </tr>\n",
       "    <tr>\n",
       "      <th>2</th>\n",
       "      <td>Leptodactylidae</td>\n",
       "      <td>Adenomera</td>\n",
       "      <td>AdenomeraAndre</td>\n",
       "    </tr>\n",
       "    <tr>\n",
       "      <th>3</th>\n",
       "      <td>Leptodactylidae</td>\n",
       "      <td>Adenomera</td>\n",
       "      <td>AdenomeraAndre</td>\n",
       "    </tr>\n",
       "    <tr>\n",
       "      <th>4</th>\n",
       "      <td>Leptodactylidae</td>\n",
       "      <td>Adenomera</td>\n",
       "      <td>AdenomeraAndre</td>\n",
       "    </tr>\n",
       "  </tbody>\n",
       "</table>\n",
       "</div>"
      ]
     },
     "execution_count": 225,
     "metadata": {},
     "output_type": "execute_result"
    }
   ],
   "execution_count": 225
  },
  {
   "cell_type": "code",
   "source": [
    "print(f'Liczba przykładów:', X.shape[0])\n",
    "print(f'Liczba atrybutów:', X.shape[1])\n",
    "print(f'Liczba etykiet:', y.shape[1])\n",
    "print(\" \")\n",
    "print(\"Rozdkład klas w etykietach: \")\n",
    "print(\" \")\n",
    "for col in y.columns:\n",
    "  print(y[col].value_counts())\n",
    "  print(\" \")"
   ],
   "metadata": {
    "colab": {
     "base_uri": "https://localhost:8080/"
    },
    "id": "Ph9T1ZH6iokw",
    "outputId": "b6fed928-53f8-4099-8e0d-1ef6a2eb3c0f",
    "ExecuteTime": {
     "end_time": "2024-06-03T19:13:39.173268Z",
     "start_time": "2024-06-03T19:13:39.141527Z"
    }
   },
   "outputs": [
    {
     "name": "stdout",
     "output_type": "stream",
     "text": [
      "Liczba przykładów: 7195\n",
      "Liczba atrybutów: 22\n",
      "Liczba etykiet: 3\n",
      " \n",
      "Rozdkład klas w etykietach: \n",
      " \n",
      "Family\n",
      "Leptodactylidae    4420\n",
      "Hylidae            2165\n",
      "Dendrobatidae       542\n",
      "Bufonidae            68\n",
      "Name: count, dtype: int64\n",
      " \n",
      "Genus\n",
      "Adenomera        4150\n",
      "Hypsiboas        1593\n",
      "Ameerega          542\n",
      "Dendropsophus     310\n",
      "Leptodactylus     270\n",
      "Scinax            148\n",
      "Osteocephalus     114\n",
      "Rhinella           68\n",
      "Name: count, dtype: int64\n",
      " \n",
      "Species\n",
      "AdenomeraHylaedactylus    3478\n",
      "HypsiboasCordobae         1121\n",
      "AdenomeraAndre             672\n",
      "Ameeregatrivittata         542\n",
      "HypsiboasCinerascens       472\n",
      "HylaMinuta                 310\n",
      "LeptodactylusFuscus        270\n",
      "ScinaxRuber                148\n",
      "OsteocephalusOophagus      114\n",
      "Rhinellagranulosa           68\n",
      "Name: count, dtype: int64\n",
      " \n"
     ]
    }
   ],
   "execution_count": 226
  },
  {
   "cell_type": "markdown",
   "source": [
    "Następnie dane te zostały przejrzane oraz dokonana zostanie ich wstępna analiza. Zbadano korelacje cech względem każdej z etykiet dla danego przykładu\n",
    "\n"
   ],
   "metadata": {
    "id": "_uXtxuO6f1SP"
   }
  },
  {
   "metadata": {
    "ExecuteTime": {
     "end_time": "2024-06-03T19:13:39.310745Z",
     "start_time": "2024-06-03T19:13:39.294702Z"
    }
   },
   "cell_type": "code",
   "source": [
    "from sklearn.preprocessing import LabelEncoder\n",
    "\n",
    "\n",
    "def encode_all_etiquette(y):\n",
    "    le = LabelEncoder()\n",
    "    y_encoded = pd.DataFrame()\n",
    "    for col in y.columns:\n",
    "        y_encoded[col] = le.fit_transform(y[col])\n",
    "    return y_encoded"
   ],
   "outputs": [],
   "execution_count": 227
  },
  {
   "metadata": {
    "ExecuteTime": {
     "end_time": "2024-06-03T19:13:39.697947Z",
     "start_time": "2024-06-03T19:13:39.660966Z"
    }
   },
   "cell_type": "code",
   "source": [
    "y_encoded= encode_all_etiquette(y)\n",
    "y_encoded = y_encoded.astype(float)"
   ],
   "outputs": [],
   "execution_count": 228
  },
  {
   "cell_type": "code",
   "source": [
    "correlations = []\n",
    "\n",
    "for feat_id, feature in enumerate(X):\n",
    "    X[feature] = pd.to_numeric(X[feature], errors='coerce')\n",
    "    correlation_matrix = np.corrcoef(X[feature], y_encoded[y_encoded.columns[0]])\n",
    "    correlation1 = correlation_matrix[0, 1]\n",
    "    correlation_matrix = np.corrcoef(X[feature], y_encoded[y_encoded.columns[1]])\n",
    "    correlation2 = correlation_matrix[0, 1]\n",
    "    correlation_matrix = np.corrcoef(X[feature], y_encoded[y_encoded.columns[2]])\n",
    "    correlation3 = correlation_matrix[0, 1]\n",
    "    correlations.append((feature, correlation1, correlation2, correlation3))\n",
    "\n",
    "correlations_df = pd.DataFrame(correlations, columns=[\"Feature\", \"Family cor\", \"Genus cor\", \"Species cor\"])\n",
    "\n",
    "correlations_df"
   ],
   "metadata": {
    "colab": {
     "base_uri": "https://localhost:8080/",
     "height": 383
    },
    "id": "7z4n2MMGXDob",
    "outputId": "553c4165-54e0-4a9a-c66e-0182f780b392",
    "ExecuteTime": {
     "end_time": "2024-06-03T19:13:40.376122Z",
     "start_time": "2024-06-03T19:13:40.252874Z"
    }
   },
   "outputs": [
    {
     "data": {
      "text/plain": [
       "     Feature  Family cor  Genus cor  Species cor\n",
       "0   MFCCs_ 1    0.082136  -0.139752    -0.139443\n",
       "1   MFCCs_ 2   -0.084484   0.075414     0.041077\n",
       "2   MFCCs_ 3   -0.060932   0.480275     0.453261\n",
       "3   MFCCs_ 4    0.542243  -0.478674    -0.450568\n",
       "4   MFCCs_ 5    0.025059  -0.395427    -0.354013\n",
       "5   MFCCs_ 6   -0.394285   0.497838     0.498372\n",
       "6   MFCCs_ 7   -0.253486   0.351396     0.283137\n",
       "7   MFCCs_ 8    0.189943  -0.237856    -0.263367\n",
       "8   MFCCs_ 9    0.397396  -0.311884    -0.234454\n",
       "9   MFCCs_10    0.054796  -0.067656    -0.065084\n",
       "10  MFCCs_11   -0.477986   0.382816     0.287621\n",
       "11  MFCCs_12    0.143682   0.038807     0.081901\n",
       "12  MFCCs_13    0.537090  -0.371274    -0.258249\n",
       "13  MFCCs_14   -0.290421   0.114584     0.052992\n",
       "14  MFCCs_15   -0.551621   0.388241     0.276214\n",
       "15  MFCCs_16    0.326453  -0.160777    -0.111853\n",
       "16  MFCCs_17    0.638747  -0.439875    -0.351876\n",
       "17  MFCCs_18   -0.067363   0.005878     0.005750\n",
       "18  MFCCs_19   -0.629755   0.532902     0.516985\n",
       "19  MFCCs_20   -0.420618   0.553604     0.489261\n",
       "20  MFCCs_21    0.418591  -0.328774    -0.355266\n",
       "21  MFCCs_22    0.557251  -0.631520    -0.550758"
      ],
      "text/html": [
       "<div>\n",
       "<style scoped>\n",
       "    .dataframe tbody tr th:only-of-type {\n",
       "        vertical-align: middle;\n",
       "    }\n",
       "\n",
       "    .dataframe tbody tr th {\n",
       "        vertical-align: top;\n",
       "    }\n",
       "\n",
       "    .dataframe thead th {\n",
       "        text-align: right;\n",
       "    }\n",
       "</style>\n",
       "<table border=\"1\" class=\"dataframe\">\n",
       "  <thead>\n",
       "    <tr style=\"text-align: right;\">\n",
       "      <th></th>\n",
       "      <th>Feature</th>\n",
       "      <th>Family cor</th>\n",
       "      <th>Genus cor</th>\n",
       "      <th>Species cor</th>\n",
       "    </tr>\n",
       "  </thead>\n",
       "  <tbody>\n",
       "    <tr>\n",
       "      <th>0</th>\n",
       "      <td>MFCCs_ 1</td>\n",
       "      <td>0.082136</td>\n",
       "      <td>-0.139752</td>\n",
       "      <td>-0.139443</td>\n",
       "    </tr>\n",
       "    <tr>\n",
       "      <th>1</th>\n",
       "      <td>MFCCs_ 2</td>\n",
       "      <td>-0.084484</td>\n",
       "      <td>0.075414</td>\n",
       "      <td>0.041077</td>\n",
       "    </tr>\n",
       "    <tr>\n",
       "      <th>2</th>\n",
       "      <td>MFCCs_ 3</td>\n",
       "      <td>-0.060932</td>\n",
       "      <td>0.480275</td>\n",
       "      <td>0.453261</td>\n",
       "    </tr>\n",
       "    <tr>\n",
       "      <th>3</th>\n",
       "      <td>MFCCs_ 4</td>\n",
       "      <td>0.542243</td>\n",
       "      <td>-0.478674</td>\n",
       "      <td>-0.450568</td>\n",
       "    </tr>\n",
       "    <tr>\n",
       "      <th>4</th>\n",
       "      <td>MFCCs_ 5</td>\n",
       "      <td>0.025059</td>\n",
       "      <td>-0.395427</td>\n",
       "      <td>-0.354013</td>\n",
       "    </tr>\n",
       "    <tr>\n",
       "      <th>5</th>\n",
       "      <td>MFCCs_ 6</td>\n",
       "      <td>-0.394285</td>\n",
       "      <td>0.497838</td>\n",
       "      <td>0.498372</td>\n",
       "    </tr>\n",
       "    <tr>\n",
       "      <th>6</th>\n",
       "      <td>MFCCs_ 7</td>\n",
       "      <td>-0.253486</td>\n",
       "      <td>0.351396</td>\n",
       "      <td>0.283137</td>\n",
       "    </tr>\n",
       "    <tr>\n",
       "      <th>7</th>\n",
       "      <td>MFCCs_ 8</td>\n",
       "      <td>0.189943</td>\n",
       "      <td>-0.237856</td>\n",
       "      <td>-0.263367</td>\n",
       "    </tr>\n",
       "    <tr>\n",
       "      <th>8</th>\n",
       "      <td>MFCCs_ 9</td>\n",
       "      <td>0.397396</td>\n",
       "      <td>-0.311884</td>\n",
       "      <td>-0.234454</td>\n",
       "    </tr>\n",
       "    <tr>\n",
       "      <th>9</th>\n",
       "      <td>MFCCs_10</td>\n",
       "      <td>0.054796</td>\n",
       "      <td>-0.067656</td>\n",
       "      <td>-0.065084</td>\n",
       "    </tr>\n",
       "    <tr>\n",
       "      <th>10</th>\n",
       "      <td>MFCCs_11</td>\n",
       "      <td>-0.477986</td>\n",
       "      <td>0.382816</td>\n",
       "      <td>0.287621</td>\n",
       "    </tr>\n",
       "    <tr>\n",
       "      <th>11</th>\n",
       "      <td>MFCCs_12</td>\n",
       "      <td>0.143682</td>\n",
       "      <td>0.038807</td>\n",
       "      <td>0.081901</td>\n",
       "    </tr>\n",
       "    <tr>\n",
       "      <th>12</th>\n",
       "      <td>MFCCs_13</td>\n",
       "      <td>0.537090</td>\n",
       "      <td>-0.371274</td>\n",
       "      <td>-0.258249</td>\n",
       "    </tr>\n",
       "    <tr>\n",
       "      <th>13</th>\n",
       "      <td>MFCCs_14</td>\n",
       "      <td>-0.290421</td>\n",
       "      <td>0.114584</td>\n",
       "      <td>0.052992</td>\n",
       "    </tr>\n",
       "    <tr>\n",
       "      <th>14</th>\n",
       "      <td>MFCCs_15</td>\n",
       "      <td>-0.551621</td>\n",
       "      <td>0.388241</td>\n",
       "      <td>0.276214</td>\n",
       "    </tr>\n",
       "    <tr>\n",
       "      <th>15</th>\n",
       "      <td>MFCCs_16</td>\n",
       "      <td>0.326453</td>\n",
       "      <td>-0.160777</td>\n",
       "      <td>-0.111853</td>\n",
       "    </tr>\n",
       "    <tr>\n",
       "      <th>16</th>\n",
       "      <td>MFCCs_17</td>\n",
       "      <td>0.638747</td>\n",
       "      <td>-0.439875</td>\n",
       "      <td>-0.351876</td>\n",
       "    </tr>\n",
       "    <tr>\n",
       "      <th>17</th>\n",
       "      <td>MFCCs_18</td>\n",
       "      <td>-0.067363</td>\n",
       "      <td>0.005878</td>\n",
       "      <td>0.005750</td>\n",
       "    </tr>\n",
       "    <tr>\n",
       "      <th>18</th>\n",
       "      <td>MFCCs_19</td>\n",
       "      <td>-0.629755</td>\n",
       "      <td>0.532902</td>\n",
       "      <td>0.516985</td>\n",
       "    </tr>\n",
       "    <tr>\n",
       "      <th>19</th>\n",
       "      <td>MFCCs_20</td>\n",
       "      <td>-0.420618</td>\n",
       "      <td>0.553604</td>\n",
       "      <td>0.489261</td>\n",
       "    </tr>\n",
       "    <tr>\n",
       "      <th>20</th>\n",
       "      <td>MFCCs_21</td>\n",
       "      <td>0.418591</td>\n",
       "      <td>-0.328774</td>\n",
       "      <td>-0.355266</td>\n",
       "    </tr>\n",
       "    <tr>\n",
       "      <th>21</th>\n",
       "      <td>MFCCs_22</td>\n",
       "      <td>0.557251</td>\n",
       "      <td>-0.631520</td>\n",
       "      <td>-0.550758</td>\n",
       "    </tr>\n",
       "  </tbody>\n",
       "</table>\n",
       "</div>"
      ]
     },
     "execution_count": 229,
     "metadata": {},
     "output_type": "execute_result"
    }
   ],
   "execution_count": 229
  },
  {
   "cell_type": "markdown",
   "source": [
    "Po wstępnej analizie dane podzielono na 2 części - zestaw atrybutów oraz zestaw etykiet."
   ],
   "metadata": {
    "id": "moyKUCbjW_wv"
   }
  },
  {
   "cell_type": "code",
   "source": [
    "from sklearn.model_selection import train_test_split\n",
    "\n",
    "X_train, X_test, y_train, y_test = train_test_split(X, y, test_size=0.2, random_state=42)"
   ],
   "metadata": {
    "id": "5K-_SWJDppm3",
    "ExecuteTime": {
     "end_time": "2024-06-03T19:13:41.120562Z",
     "start_time": "2024-06-03T19:13:41.097494Z"
    }
   },
   "outputs": [],
   "execution_count": 230
  },
  {
   "cell_type": "markdown",
   "source": [
    "Do poprawnego działania łańcucha wymagane jest zakodowanie etykiet na wartości numeryczne. Zamienione zostały również nazwy kolumn z oryginalnych na numeryczne, porządkowe."
   ],
   "metadata": {
    "id": "6nrRHcmEuMIH"
   }
  },
  {
   "cell_type": "code",
   "source": [
    "from sklearn.preprocessing import LabelEncoder\n",
    "\n",
    "def encode_etiquette(y_train, y_test):\n",
    "    le = LabelEncoder()\n",
    "    y_train_encoded = pd.DataFrame()\n",
    "    y_test_encoded = pd.DataFrame()\n",
    "    for col in y_train.columns:\n",
    "        y_train_encoded[col] = le.fit_transform(y_train[col])\n",
    "        y_test_encoded[col] = le.transform(y_test[col])\n",
    "    return y_train_encoded, y_test_encoded"
   ],
   "metadata": {
    "id": "J2OIYs7mp1oc",
    "ExecuteTime": {
     "end_time": "2024-06-03T19:13:41.559944Z",
     "start_time": "2024-06-03T19:13:41.539045Z"
    }
   },
   "outputs": [],
   "execution_count": 231
  },
  {
   "cell_type": "code",
   "source": [
    "y_train_encoded, y_test_encoded = encode_etiquette(y_train, y_test)\n",
    "\n",
    "y_test_encoded.reset_index(drop=True, inplace=True)\n",
    "X_train.reset_index(drop=True, inplace=True)\n",
    "X_test.reset_index(drop=True, inplace=True)\n",
    "\n",
    "y_train_encoded_numerical_columns = y_train_encoded.copy()\n",
    "y_train_encoded_numerical_columns.columns = range(y_train_encoded_numerical_columns.shape[1])\n",
    "\n",
    "column_mapping = {old: new for old, new in zip(y_train_encoded.columns, y_train_encoded_numerical_columns.columns)}\n",
    "column_mapping_rev = {new: old for old, new in zip(y_train_encoded.columns, y_train_encoded_numerical_columns.columns)}"
   ],
   "metadata": {
    "id": "1cIIWsE4utQ3",
    "ExecuteTime": {
     "end_time": "2024-06-03T19:13:42.131512Z",
     "start_time": "2024-06-03T19:13:42.081325Z"
    }
   },
   "outputs": [],
   "execution_count": 232
  },
  {
   "cell_type": "markdown",
   "source": [
    "### 2.2\tBudowa sieci Bayesowskiej\n",
    "Pierwszym elementem docelowego algorytmu jest budowa sieci bayesowskiej. Sieć bayesowska jest tym składnikiem całego programu, który reprezentuje relacje zależności pomiędzy etykietami. Sieć bayesowska to acykliczny graf skierowany, którego węzłami są numery etykiet, a skierowane krawędzie odzwierciedlają zależność przyczynową pomiędzy nimi.\n",
    "\n",
    "Procedura implementacyjna sieci Bayesowskiej korzysta z algorytmu rozpowszechnionego w literaturze pod nazwą Chow & Liu. Składa się on z następujących kroków:\n",
    "\n",
    "1) Wyznaczenie informacji wzajemnej między wszystkimi etykietami:\n",
    "\n",
    "Funkcja zwraca wartość informacji wzajemnej przyjmując na wejściu prawdopodobieństwa brzegowe 2 etykiet oraz prawdopodobieństwo części wspólnej obu etykiet.\n",
    "\n"
   ],
   "metadata": {
    "id": "P5nkr-5PvzfL"
   }
  },
  {
   "cell_type": "code",
   "source": [
    "def mutual_info(puv, pu, pv):\n",
    "    mi = 0.0\n",
    "    for (u_val, v_val), p_uv in puv.items():\n",
    "        p_u = pu[u_val]\n",
    "        p_v = pv[v_val]\n",
    "        mi += p_uv * np.log(p_uv / (p_u * p_v))\n",
    "    return mi"
   ],
   "metadata": {
    "id": "C_IddtZpvyBb",
    "ExecuteTime": {
     "end_time": "2024-06-03T19:13:42.647540Z",
     "start_time": "2024-06-03T19:13:42.632139Z"
    }
   },
   "outputs": [],
   "execution_count": 233
  },
  {
   "cell_type": "markdown",
   "source": [
    "2) Wyznaczenie drzewa rozpinającego o maksymalnej sumie wag – wykorzystanie algorytmu Kruskala (union, find)\n",
    "\n",
    "Do implementacji tej części algorytmu wykorzystano klasę DisjointSet. Pełni ona rolę struktury danych przechowującej informację o wierzchołkach należących do różnych, rozłącznych podgrafów. Zawiera metody:\n",
    "- find, która służy do weryfikacji czy 2 podgrafy są rozłączne\n",
    "- union, która łączy 2 rozłączne podgrafy w 1\n",
    "\n",
    "Algorytm Kruskala działa tak, że dla każdej pary wierzchołków (etykiet) sprawdza czy są one już połączone krawędzią (metoda find). Jeśli są rozłączne to je ze sobą łączy(metoda union). Algorytm wykonuje się do momentu połączenia wszystkich wierzchołków. Kluczowe w tym algorytmie jest podanie właściwej kolejności par wierzchołków na wejściu algorytmu, zgodnej z informacją wzajemną między nimi; informacja wzajmna jest wagą każdej krawędzi.\n",
    "\n"
   ],
   "metadata": {
    "id": "oiJeojAUxf6R"
   }
  },
  {
   "cell_type": "code",
   "source": [
    "import collections\n",
    "\n",
    "class DisjointSet:\n",
    "\n",
    "    def __init__(self, *values):\n",
    "        self.parents = {x: x for x in values}\n",
    "        self.sizes = {x: 1 for x in values}\n",
    "\n",
    "    def find(self, x):\n",
    "        while self.parents[x] != x:\n",
    "            x, self.parents[x] = self.parents[x], self.parents[self.parents[x]]\n",
    "        return x\n",
    "\n",
    "    def union(self, x, y):\n",
    "        if self.sizes[x] < self.sizes[y]:\n",
    "            x, y = y, x\n",
    "        self.parents[y] = x\n",
    "        self.sizes[x] += self.sizes[y]\n",
    "\n",
    "\n",
    "def kruskal(vertices, edges):\n",
    "    ds = DisjointSet(*vertices)\n",
    "    neighbors = collections.defaultdict(set)\n",
    "\n",
    "    for u, v in edges:\n",
    "        if ds.find(u) != ds.find(v):\n",
    "            neighbors[u].add(v)\n",
    "            neighbors[v].add(u)\n",
    "            ds.union(ds.find(u), ds.find(v))\n",
    "\n",
    "        if len(neighbors) == len(vertices):\n",
    "            break\n",
    "\n",
    "    return neighbors"
   ],
   "metadata": {
    "id": "_B5LPNm5xfk4",
    "ExecuteTime": {
     "end_time": "2024-06-03T19:13:43.306083Z",
     "start_time": "2024-06-03T19:13:43.278302Z"
    }
   },
   "outputs": [],
   "execution_count": 234
  },
  {
   "cell_type": "markdown",
   "source": [
    "3) Ustalenie zwrotów krawędzi od wybranego węzła początkowego.\n",
    "\n",
    "W tym kroku zadania graf nieskierowany zamienia się na skierowany. W tej implementacji dla sieci bayesowskiej należy podać również węzeł (etykietę) początkową, z której powstanie drzewo osateczna sieć. Odczytując węzły z grafu w kolejności topologicznej otrzymamy wejściowe parametry dla łańcucha klasyfikatorów, mianowicie kolejność etykiet do predykcji.\n"
   ],
   "metadata": {
    "id": "qeydoR7Wxrmq"
   }
  },
  {
   "cell_type": "code",
   "source": [
    "def orient_tree(neighbors, root, visited):\n",
    "    #Zwraca pary zależności na podstawie roota oraz sąsiadow z algorytmu Kruskala\n",
    "    for neighbor in neighbors[root] - visited:\n",
    "        yield root, neighbor\n",
    "        yield from orient_tree(neighbors, root=neighbor, visited={root})"
   ],
   "metadata": {
    "id": "2WBPQFQmxth4",
    "ExecuteTime": {
     "end_time": "2024-06-03T19:13:44.211552Z",
     "start_time": "2024-06-03T19:13:44.196568Z"
    }
   },
   "outputs": [],
   "execution_count": 235
  },
  {
   "cell_type": "markdown",
   "source": [
    "**Algorytm Chow-Liu**"
   ],
   "metadata": {
    "id": "VpVBixKOxu5p"
   }
  },
  {
   "cell_type": "code",
   "source": [
    "import itertools\n",
    "\n",
    "\n",
    "def chow_liu(X, root=None):\n",
    "\n",
    "    # 1 Informacja wzajemna\n",
    "    marginals = {v: X[v].value_counts(normalize=True) for v in X.columns} #prawdopodobienstwa brzegowe\n",
    "    edge = collections.namedtuple(\"edge\", [\"u\", \"v\", \"mi\"]) #przydatna struktura\n",
    "    mutual_info_values = {}\n",
    "    for u, v in itertools.combinations(sorted(X.columns), 2):\n",
    "        puv = X.groupby([u, v]).size() / len(X) #prawdopodobienstwo wspolne\n",
    "        pu = marginals[u]\n",
    "        pv = marginals[v]\n",
    "        mutual_info_values[(u, v)] = mutual_info(puv, pu, pv)\n",
    "\n",
    "\n",
    "    mis = [] #tworzenie listy krotek (u, v, mi) - wezlow polaczonych krawedzia z wagami\n",
    "    for key, value in mutual_info_values.items():\n",
    "        u, v = key\n",
    "        mis.append(edge(u, v, value))\n",
    "\n",
    "    #sortowanie krawedzi od najbardziej znaczacych\n",
    "    edges = ((e.u, e.v) for e in sorted(mis, key=lambda e: e.mi, reverse=True))\n",
    "    edges = list(edges)\n",
    "\n",
    "    # 2 Maksymalne drzewo rozpinające\n",
    "    neighbors = kruskal(vertices=X.columns, edges=edges)\n",
    "\n",
    "    if root is None:\n",
    "        root = X.columns[0]\n",
    "\n",
    "    # 3 zamiana drzewa niezorientowanego na zorientowane\n",
    "    return list(orient_tree(neighbors, root, visited=set()))"
   ],
   "metadata": {
    "id": "5SSFFyvM70qC",
    "ExecuteTime": {
     "end_time": "2024-06-03T19:13:44.349425Z",
     "start_time": "2024-06-03T19:13:44.319563Z"
    }
   },
   "outputs": [],
   "execution_count": 236
  },
  {
   "cell_type": "markdown",
   "source": [
    "Mając powyższy zestaw algorytmów można utworzyć sieć bayesowską dla przykładów z wybranego zbioru danych. Dla każdej etykiety początkowej - root - otrzymano różny wygląd i ułożenie sieci mimo jednakowych informacji wzajemnych w każdym z tych przypadków."
   ],
   "metadata": {
    "id": "SZlfSJDL9ijF"
   }
  },
  {
   "cell_type": "code",
   "source": [
    "for y_col, y_col_num in column_mapping.items():\n",
    "  res = chow_liu(y_train_encoded_numerical_columns, root=y_col_num)\n",
    "  print(f\"root:{y_col}\")\n",
    "  for pair in res:\n",
    "    print(f\"Parent: {column_mapping_rev[pair[0]]}, Child: {column_mapping_rev[pair[1]]}\")\n",
    "  print()"
   ],
   "metadata": {
    "id": "tv60oz_s9UpD",
    "ExecuteTime": {
     "end_time": "2024-06-03T19:13:44.740944Z",
     "start_time": "2024-06-03T19:13:44.667140Z"
    }
   },
   "outputs": [
    {
     "name": "stdout",
     "output_type": "stream",
     "text": [
      "root:Family\n",
      "Parent: Family, Child: Genus\n",
      "Parent: Genus, Child: Species\n",
      "\n",
      "root:Genus\n",
      "Parent: Genus, Child: Family\n",
      "Parent: Genus, Child: Species\n",
      "\n",
      "root:Species\n",
      "Parent: Species, Child: Genus\n",
      "Parent: Genus, Child: Family\n",
      "\n"
     ]
    }
   ],
   "execution_count": 237
  },
  {
   "cell_type": "code",
   "source": [
    "  import time\n",
    "\n",
    "  start_time = time.time()\n",
    "  bayes_network = chow_liu(y_train_encoded_numerical_columns, root=column_mapping[\"Genus\"])\n",
    "  end_time = time.time()\n",
    "\n",
    "  print(f\"Czas tworzenia sieci bayesa: {end_time - start_time}\")"
   ],
   "metadata": {
    "id": "Z9i7meMk9wI3",
    "ExecuteTime": {
     "end_time": "2024-06-03T19:13:45.013787Z",
     "start_time": "2024-06-03T19:13:44.982797Z"
    }
   },
   "outputs": [
    {
     "name": "stdout",
     "output_type": "stream",
     "text": [
      "Czas tworzenia sieci bayesa: 0.02391958236694336\n"
     ]
    }
   ],
   "execution_count": 238
  },
  {
   "cell_type": "markdown",
   "source": [
    "### 2.3\tImplementacja łańcucha klasyfikatorów\n",
    "\n",
    "W tym etapie zaimplementowany został łańcuch klasyfikatorów, który będzie jest realizowany przez klasę ClassifiersChain. Klasa ta składa się z metody fit() służącej do nauki całych łańcuchów oraz metody predict() służącej do dawania predykcji klas. Aby utworzyć łańcuch należy podać nazwę klasyfikatora służącego do predykcji kolejnych etykiet, a także listę, w której to zostanie wskazana kolejność etykiet będącymi kolejnymi ogniwami łańcucha.\n",
    "\n",
    "Łańcuch działa tak, że na wejściu dostaje zestaw przykładów oraz kolejne numery etykiet przekazane w liście w odpowiedniej kolejności, podyktowanej przez sieć bayesowską. Następnie w tejże kolejności łańcuch estymuje klasę każdej etykiety, przy czym dla każdego kolejnego ogniwa danego łańcucha wynik poprzedniej predykcji jest traktowany jako dodatkowy atrybut danego przykładu i wiedza ta zostaje przez to wykorzystana do wyliczenia wartości kolejnej etykiety danego łańcucha.\n",
    "Innymi słowy dla przykładu składającego się z wektora atrybutów X = (x1, x2, x3) i etykiet Y = (y1, y2), pierwszy model stworzony zostanie dla przykładu składającego się jedynie z wektora atrybutów X = (x1, x2, x3) i etykiety Y = (y1). Model za sprawą klasyfikatora Bayesa dokona predykcji wartość y1. W kolejnym podejściu stworzony zostanie drugi model, tym razem już dla przykładu składającego się z wektora atrybutów X = (x1, x2, x3, y1) i etykiety Y = (y2)."
   ],
   "metadata": {
    "id": "S1ZQSlS8JrhX"
   }
  },
  {
   "cell_type": "code",
   "source": [
    "from sklearn.base import clone\n",
    "\n",
    "class ClassifiersChain:\n",
    "    def __init__(self, classifier, order=None):\n",
    "        self.cls = classifier  # ustalenie bazowego klasyfikatora\n",
    "        self.order = order  # ustalenie kolejności etykiety do klasyfikacji\n",
    "\n",
    "\n",
    "    def fit(self, X, y): # metoda trenująca łańcuch klasyfikatorów\n",
    "        # ustalenie kolejności etykiety do klasyfikacji\n",
    "        if self.order is None:\n",
    "            self.order = list(range(y.shape[1]))  # defaultowa kolejnosc\n",
    "\n",
    "        # lista klasyfikatorów do klasyfikacji poszczególnych etykiet łańcucha\n",
    "        self.models = [clone(self.cls) for _ in self.order]\n",
    "\n",
    "        self.col_names = y.columns[self.order].tolist()\n",
    "        X.reset_index(drop=True, inplace=True)\n",
    "        y_new = y[self.col_names]\n",
    "        X_joined = pd.concat([X, y_new], axis=1)\n",
    "\n",
    "        # trenowanie każdego klasyfikatora w łańcuchu\n",
    "        for chain_number, model in enumerate(self.models):\n",
    "            X_ = X_joined.iloc[:, : (X.shape[1] + chain_number)]  # wybranie zestawu atrybutow\n",
    "            y_ = y_new[self.col_names[chain_number]]  # wybranie etykiety do klasyfikacji\n",
    "            model.fit(X_, y_)  # trenowanie klasyfikatora na wybranych danych\n",
    "\n",
    "\n",
    "    def predict(self, X): # metoda dokonująca predykcji nieznanego zbioru danych\n",
    "        # sprawdzenie czy lista modeli została zainicjalizowana\n",
    "        if self.models is None:\n",
    "            raise ValueError(\"Error. You cannot predict class without training\")\n",
    "\n",
    "        X_joined = X.copy()\n",
    "        data_types = {col: np.int32 for col in self.col_names}\n",
    "        pred_chain = pd.DataFrame(columns=data_types.keys()).astype(data_types)\n",
    "\n",
    "        for chain_number, model in enumerate(self.models):\n",
    "            if chain_number > 0:\n",
    "                prev_preds = pred_chain.iloc[\n",
    "                    :, chain_number - 1\n",
    "                ]  # wybór poprzednich predykcji\n",
    "                X_joined = pd.concat([X_joined, prev_preds], axis=1)\n",
    "            pred = model.predict(X_joined)  # predykcja klasy etykiety\n",
    "            pred_chain.iloc[:, chain_number] = pred  # zapisanie predykcji\n",
    "\n",
    "        return pred_chain.astype(np.int32)"
   ],
   "metadata": {
    "id": "xa2h4SQK-w-G",
    "ExecuteTime": {
     "end_time": "2024-06-03T19:13:45.266632Z",
     "start_time": "2024-06-03T19:13:45.229993Z"
    }
   },
   "outputs": [],
   "execution_count": 239
  },
  {
   "cell_type": "markdown",
   "source": [
    "W najprostszym wariancie wykorzystania modelu wieloetykietowego, przy tworzeniu łańcucha klasyfikatorów uwzględniona zostanie jedynie etykieta rodzica dla danego węzła. Zatem algorytm utworzy tyle łańcuchów ile jest krawędzi w sieci i dla każdej pary węzłów stworzy predykcje 2 wartości. Następnie wyniki są łączone w jedną tabelę."
   ],
   "metadata": {
    "id": "bGm1QCWBLmcn"
   }
  },
  {
   "cell_type": "code",
   "source": [
    "from sklearn.naive_bayes import GaussianNB\n",
    "\n",
    "def make_chains(res):\n",
    "  gnb = GaussianNB() #wybór podstawowego klasyfikatora\n",
    "  chains = pd.DataFrame(columns=y_test_encoded.columns)\n",
    "\n",
    "  for i in range(len(res)):\n",
    "      chain_classifier = ClassifiersChain(gnb, order=list(res[i]))\n",
    "      chain_classifier.fit(X_train, y_train_encoded)\n",
    "      y_pred = chain_classifier.predict(X_test)\n",
    "      if i == 0:\n",
    "          chains = pd.concat([chains, y_pred])\n",
    "      else:\n",
    "          chains = chains.fillna(y_pred)\n",
    "      chains = chains.astype(int, errors='ignore')\n",
    "\n",
    "  return chains"
   ],
   "metadata": {
    "id": "Bl6LQW9uLHTX",
    "ExecuteTime": {
     "end_time": "2024-06-03T19:13:45.565445Z",
     "start_time": "2024-06-03T19:13:45.546901Z"
    }
   },
   "outputs": [],
   "execution_count": 240
  },
  {
   "cell_type": "markdown",
   "source": [
    "Otrzymano zatem predykcję wszystkich klas dla wszystkich etykiet."
   ],
   "metadata": {
    "id": "wuJNwLnZVxTO"
   }
  },
  {
   "cell_type": "code",
   "source": [
    "chains = make_chains(bayes_network)\n",
    "chains"
   ],
   "metadata": {
    "id": "dP4gtHPTM5o7",
    "ExecuteTime": {
     "end_time": "2024-06-03T19:13:46.369489Z",
     "start_time": "2024-06-03T19:13:46.099192Z"
    }
   },
   "outputs": [
    {
     "data": {
      "text/plain": [
       "      Family  Genus  Species\n",
       "0          3      0        1\n",
       "1          2      3        4\n",
       "2          2      3        5\n",
       "3          3      0        1\n",
       "4          3      0        1\n",
       "...      ...    ...      ...\n",
       "1434       3      0        1\n",
       "1435       3      0        1\n",
       "1436       1      1        2\n",
       "1437       1      1        2\n",
       "1438       2      3        5\n",
       "\n",
       "[1439 rows x 3 columns]"
      ],
      "text/html": [
       "<div>\n",
       "<style scoped>\n",
       "    .dataframe tbody tr th:only-of-type {\n",
       "        vertical-align: middle;\n",
       "    }\n",
       "\n",
       "    .dataframe tbody tr th {\n",
       "        vertical-align: top;\n",
       "    }\n",
       "\n",
       "    .dataframe thead th {\n",
       "        text-align: right;\n",
       "    }\n",
       "</style>\n",
       "<table border=\"1\" class=\"dataframe\">\n",
       "  <thead>\n",
       "    <tr style=\"text-align: right;\">\n",
       "      <th></th>\n",
       "      <th>Family</th>\n",
       "      <th>Genus</th>\n",
       "      <th>Species</th>\n",
       "    </tr>\n",
       "  </thead>\n",
       "  <tbody>\n",
       "    <tr>\n",
       "      <th>0</th>\n",
       "      <td>3</td>\n",
       "      <td>0</td>\n",
       "      <td>1</td>\n",
       "    </tr>\n",
       "    <tr>\n",
       "      <th>1</th>\n",
       "      <td>2</td>\n",
       "      <td>3</td>\n",
       "      <td>4</td>\n",
       "    </tr>\n",
       "    <tr>\n",
       "      <th>2</th>\n",
       "      <td>2</td>\n",
       "      <td>3</td>\n",
       "      <td>5</td>\n",
       "    </tr>\n",
       "    <tr>\n",
       "      <th>3</th>\n",
       "      <td>3</td>\n",
       "      <td>0</td>\n",
       "      <td>1</td>\n",
       "    </tr>\n",
       "    <tr>\n",
       "      <th>4</th>\n",
       "      <td>3</td>\n",
       "      <td>0</td>\n",
       "      <td>1</td>\n",
       "    </tr>\n",
       "    <tr>\n",
       "      <th>...</th>\n",
       "      <td>...</td>\n",
       "      <td>...</td>\n",
       "      <td>...</td>\n",
       "    </tr>\n",
       "    <tr>\n",
       "      <th>1434</th>\n",
       "      <td>3</td>\n",
       "      <td>0</td>\n",
       "      <td>1</td>\n",
       "    </tr>\n",
       "    <tr>\n",
       "      <th>1435</th>\n",
       "      <td>3</td>\n",
       "      <td>0</td>\n",
       "      <td>1</td>\n",
       "    </tr>\n",
       "    <tr>\n",
       "      <th>1436</th>\n",
       "      <td>1</td>\n",
       "      <td>1</td>\n",
       "      <td>2</td>\n",
       "    </tr>\n",
       "    <tr>\n",
       "      <th>1437</th>\n",
       "      <td>1</td>\n",
       "      <td>1</td>\n",
       "      <td>2</td>\n",
       "    </tr>\n",
       "    <tr>\n",
       "      <th>1438</th>\n",
       "      <td>2</td>\n",
       "      <td>3</td>\n",
       "      <td>5</td>\n",
       "    </tr>\n",
       "  </tbody>\n",
       "</table>\n",
       "<p>1439 rows × 3 columns</p>\n",
       "</div>"
      ]
     },
     "execution_count": 241,
     "metadata": {},
     "output_type": "execute_result"
    }
   ],
   "execution_count": 241
  },
  {
   "cell_type": "markdown",
   "source": "Zweryfikowano także dokładność predykcji każdej z etykiet dla utworzonogo modelu, przy wyborze różnych etykiet głównych sieci bayesa (root).",
   "metadata": {
    "id": "-UjW9qlqWrQh"
   }
  },
  {
   "metadata": {},
   "cell_type": "markdown",
   "source": "## Weryfikacja jakości predykcji"
  },
  {
   "cell_type": "code",
   "source": [
    "from sklearn.metrics import accuracy_score, f1_score\n",
    "\n",
    "row_names = []\n",
    "for name in y_test.columns:\n",
    "    row_names.append(name)\n",
    "\n",
    "df_acc = pd.DataFrame(index=row_names, columns=y_test.columns)\n",
    "df_f1 = pd.DataFrame(index=row_names, columns=y_test.columns)\n",
    "\n",
    "for root in y_test.columns: #iteracja po kolumnach\n",
    "    bayes_network = chow_liu(y_train_encoded_numerical_columns, root=column_mapping[root])\n",
    "    chains = make_chains(bayes_network)\n",
    "    for name in y_test.columns: #iteracja po wierszach\n",
    "        acc= accuracy_score(chains[name], y_test_encoded[name])\n",
    "        f1 = f1_score(chains[name], y_test_encoded[name], average=\"macro\")\n",
    "        df_acc.at[name, root] = acc\n",
    "        df_f1.at[name, root] = f1"
   ],
   "metadata": {
    "id": "lmmgOIoQhsxp",
    "ExecuteTime": {
     "end_time": "2024-06-03T19:13:47.228375Z",
     "start_time": "2024-06-03T19:13:46.376143Z"
    }
   },
   "outputs": [],
   "execution_count": 242
  },
  {
   "cell_type": "markdown",
   "source": [
    "Poniżej pokazano 2 tabelki ze zbiorczymi wynikami. Każda kolumna określa wybrany węzeł początkowy(root), a w każdym wierszu jest wyliczona dana metryka dla kolejnych etykiet w łańcuchu klasyfikatorów.\n",
    "\n",
    "Dodatkowo jakość wyników predykcji dla wszystkich etykiet została zagregowana i dodana jako wartość średnia wyników przy wyborze węzła startowego(roota) określonego nazwą danej kolumny.\n",
    "\n",
    "Ponadto porównano uzyskane predykcje za pomocą łańcucha klasyfikatorów dla każdej etykiety z predykcjami dla przypadku, gdy każda z etykiet byłaby przewidywana niezależnie bez uwzględnienia zależności między klasami."
   ],
   "metadata": {
    "id": "CPzS_4OvrgNA"
   }
  },
  {
   "cell_type": "code",
   "source": [
    "from sklearn.naive_bayes import GaussianNB\n",
    "\n",
    "\n",
    "def independent_classification_acc(X_train, y_train, y_test):\n",
    "  acs = []\n",
    "  gnb = GaussianNB()\n",
    "\n",
    "  for name in y_test.columns:\n",
    "    y_pred = gnb.fit(X_train, y_train[name]).predict(X_test)\n",
    "    acs.append(accuracy_score(y_test[name], y_pred))\n",
    "  return acs\n",
    "\n",
    "\n",
    "def independent_classification_f1(X_train, y_train, y_test):\n",
    "  acs = []\n",
    "  gnb = GaussianNB()\n",
    "\n",
    "  for name in y_test.columns:\n",
    "    y_pred = gnb.fit(X_train, y_train[name]).predict(X_test)\n",
    "    acs.append(f1_score(y_test[name], y_pred,average=\"macro\"))\n",
    "  return acs"
   ],
   "metadata": {
    "id": "SjUAB4xN01gi",
    "ExecuteTime": {
     "end_time": "2024-06-03T19:13:47.256990Z",
     "start_time": "2024-06-03T19:13:47.236065Z"
    }
   },
   "outputs": [],
   "execution_count": 243
  },
  {
   "cell_type": "code",
   "source": [
    "col_acc = independent_classification_acc(X_train=X_train, y_train=y_train_encoded, y_test=y_test_encoded)\n",
    "col_f1 = independent_classification_f1(X_train=X_train, y_train=y_train_encoded, y_test=y_test_encoded)"
   ],
   "metadata": {
    "id": "JmyLQyTTCwHd",
    "ExecuteTime": {
     "end_time": "2024-06-03T19:13:47.530486Z",
     "start_time": "2024-06-03T19:13:47.264619Z"
    }
   },
   "outputs": [],
   "execution_count": 244
  },
  {
   "cell_type": "code",
   "source": [
    "df_acc['independent_classification'] = col_acc\n",
    "df_f1['independent_classification'] = col_f1\n",
    "df_acc.loc['mean accuracy'] = df_acc.mean()\n",
    "df_f1.loc['mean f1'] = df_f1.mean()\n",
    "df_acc = df_acc.apply(pd.to_numeric, errors='coerce')\n",
    "df_acc = df_acc.round(4)\n",
    "df_f1 = df_f1.apply(pd.to_numeric, errors='coerce')\n",
    "df_f1 = df_f1.round(4)"
   ],
   "metadata": {
    "id": "GW7t3P5Ebhuo",
    "ExecuteTime": {
     "end_time": "2024-06-03T19:13:47.571809Z",
     "start_time": "2024-06-03T19:13:47.532553Z"
    }
   },
   "outputs": [],
   "execution_count": 245
  },
  {
   "cell_type": "code",
   "source": [
    "df_acc"
   ],
   "metadata": {
    "id": "lnT_-KN9rzPi",
    "ExecuteTime": {
     "end_time": "2024-06-03T19:13:47.609615Z",
     "start_time": "2024-06-03T19:13:47.573364Z"
    }
   },
   "outputs": [
    {
     "data": {
      "text/plain": [
       "               Family   Genus  Species  independent_classification\n",
       "Family         0.8138  0.8277   0.8277                      0.8138\n",
       "Genus          0.8054  0.8457   0.9215                      0.8457\n",
       "Species        0.8443  0.8443   0.9215                      0.9215\n",
       "mean accuracy  0.8212  0.8392   0.8902                      0.8603"
      ],
      "text/html": [
       "<div>\n",
       "<style scoped>\n",
       "    .dataframe tbody tr th:only-of-type {\n",
       "        vertical-align: middle;\n",
       "    }\n",
       "\n",
       "    .dataframe tbody tr th {\n",
       "        vertical-align: top;\n",
       "    }\n",
       "\n",
       "    .dataframe thead th {\n",
       "        text-align: right;\n",
       "    }\n",
       "</style>\n",
       "<table border=\"1\" class=\"dataframe\">\n",
       "  <thead>\n",
       "    <tr style=\"text-align: right;\">\n",
       "      <th></th>\n",
       "      <th>Family</th>\n",
       "      <th>Genus</th>\n",
       "      <th>Species</th>\n",
       "      <th>independent_classification</th>\n",
       "    </tr>\n",
       "  </thead>\n",
       "  <tbody>\n",
       "    <tr>\n",
       "      <th>Family</th>\n",
       "      <td>0.8138</td>\n",
       "      <td>0.8277</td>\n",
       "      <td>0.8277</td>\n",
       "      <td>0.8138</td>\n",
       "    </tr>\n",
       "    <tr>\n",
       "      <th>Genus</th>\n",
       "      <td>0.8054</td>\n",
       "      <td>0.8457</td>\n",
       "      <td>0.9215</td>\n",
       "      <td>0.8457</td>\n",
       "    </tr>\n",
       "    <tr>\n",
       "      <th>Species</th>\n",
       "      <td>0.8443</td>\n",
       "      <td>0.8443</td>\n",
       "      <td>0.9215</td>\n",
       "      <td>0.9215</td>\n",
       "    </tr>\n",
       "    <tr>\n",
       "      <th>mean accuracy</th>\n",
       "      <td>0.8212</td>\n",
       "      <td>0.8392</td>\n",
       "      <td>0.8902</td>\n",
       "      <td>0.8603</td>\n",
       "    </tr>\n",
       "  </tbody>\n",
       "</table>\n",
       "</div>"
      ]
     },
     "execution_count": 246,
     "metadata": {},
     "output_type": "execute_result"
    }
   ],
   "execution_count": 246
  },
  {
   "cell_type": "code",
   "source": [
    "df_f1"
   ],
   "metadata": {
    "id": "bLTjwtMEr1eU",
    "ExecuteTime": {
     "end_time": "2024-06-03T19:13:47.899575Z",
     "start_time": "2024-06-03T19:13:47.869098Z"
    }
   },
   "outputs": [
    {
     "data": {
      "text/plain": [
       "         Family   Genus  Species  independent_classification\n",
       "Family   0.7629  0.8009   0.8009                      0.7629\n",
       "Genus    0.5813  0.7843   0.8251                      0.7843\n",
       "Species  0.7310  0.7310   0.8393                      0.8393\n",
       "mean f1  0.6917  0.7721   0.8218                      0.7955"
      ],
      "text/html": [
       "<div>\n",
       "<style scoped>\n",
       "    .dataframe tbody tr th:only-of-type {\n",
       "        vertical-align: middle;\n",
       "    }\n",
       "\n",
       "    .dataframe tbody tr th {\n",
       "        vertical-align: top;\n",
       "    }\n",
       "\n",
       "    .dataframe thead th {\n",
       "        text-align: right;\n",
       "    }\n",
       "</style>\n",
       "<table border=\"1\" class=\"dataframe\">\n",
       "  <thead>\n",
       "    <tr style=\"text-align: right;\">\n",
       "      <th></th>\n",
       "      <th>Family</th>\n",
       "      <th>Genus</th>\n",
       "      <th>Species</th>\n",
       "      <th>independent_classification</th>\n",
       "    </tr>\n",
       "  </thead>\n",
       "  <tbody>\n",
       "    <tr>\n",
       "      <th>Family</th>\n",
       "      <td>0.7629</td>\n",
       "      <td>0.8009</td>\n",
       "      <td>0.8009</td>\n",
       "      <td>0.7629</td>\n",
       "    </tr>\n",
       "    <tr>\n",
       "      <th>Genus</th>\n",
       "      <td>0.5813</td>\n",
       "      <td>0.7843</td>\n",
       "      <td>0.8251</td>\n",
       "      <td>0.7843</td>\n",
       "    </tr>\n",
       "    <tr>\n",
       "      <th>Species</th>\n",
       "      <td>0.7310</td>\n",
       "      <td>0.7310</td>\n",
       "      <td>0.8393</td>\n",
       "      <td>0.8393</td>\n",
       "    </tr>\n",
       "    <tr>\n",
       "      <th>mean f1</th>\n",
       "      <td>0.6917</td>\n",
       "      <td>0.7721</td>\n",
       "      <td>0.8218</td>\n",
       "      <td>0.7955</td>\n",
       "    </tr>\n",
       "  </tbody>\n",
       "</table>\n",
       "</div>"
      ]
     },
     "execution_count": 247,
     "metadata": {},
     "output_type": "execute_result"
    }
   ],
   "execution_count": 247
  },
  {
   "cell_type": "markdown",
   "source": "Wyznaczenie krzywej ROC z wykorzystaniem przekształcenia wieloklasowych etykiet za pomocą metody one-vs-rest. ",
   "metadata": {
    "id": "oeKamDiznVn2"
   }
  },
  {
   "metadata": {
    "ExecuteTime": {
     "end_time": "2024-06-03T19:13:48.307706Z",
     "start_time": "2024-06-03T19:13:48.294766Z"
    }
   },
   "cell_type": "code",
   "source": [
    "label = y_test_encoded.columns[0]\n",
    "unique_values = y_test[label].unique()\n",
    "unique_values_tuples = list(enumerate(unique_values))\n",
    "for tup in unique_values_tuples:\n",
    "    print(tup)"
   ],
   "outputs": [
    {
     "name": "stdout",
     "output_type": "stream",
     "text": [
      "(0, 'Leptodactylidae')\n",
      "(1, 'Hylidae')\n",
      "(2, 'Dendrobatidae')\n",
      "(3, 'Bufonidae')\n"
     ]
    }
   ],
   "execution_count": 248
  },
  {
   "metadata": {},
   "cell_type": "markdown",
   "source": "Kolejne wykresy przedstawiają krzywe ROC odpowiednio dla powyższych klas etykiety o nazwie 'Family'. "
  },
  {
   "metadata": {
    "ExecuteTime": {
     "end_time": "2024-06-03T19:13:55.029053Z",
     "start_time": "2024-06-03T19:13:48.675423Z"
    }
   },
   "cell_type": "code",
   "source": [
    "from sklearn.metrics import roc_curve, auc\n",
    "from sklearn.preprocessing import label_binarize\n",
    "import matplotlib.pyplot as plt\n",
    "\n",
    "\n",
    "y_test_bin = label_binarize(y_test_encoded[label], classes=np.unique(y_test_encoded[label]))\n",
    "chains_bin = label_binarize(chains[label], classes=np.unique(y_test_encoded[label]))\n",
    "\n",
    "fpr = dict()\n",
    "tpr = dict()\n",
    "roc_auc = dict()\n",
    "n_classes = y_test_bin.shape[1]\n",
    "\n",
    "for i in range(n_classes):\n",
    "    fpr[i], tpr[i], _ = roc_curve(y_test_bin[:, i], chains_bin[:, i])\n",
    "    roc_auc[i] = auc(fpr[i], tpr[i])\n",
    "\n",
    "for i in range(n_classes):\n",
    "    plt.figure()\n",
    "    plt.plot(fpr[i], tpr[i], label='ROC curve of class {0} (area = {1:0.2f})'.format(i, roc_auc[i]))\n",
    "    plt.plot([0, 1], [0, 1], 'k--')\n",
    "    plt.xlim([0.0, 1.0])\n",
    "    plt.ylim([0.0, 1.05])\n",
    "    plt.xlabel('False Positive Rate')\n",
    "    plt.ylabel('True Positive Rate')\n",
    "    plt.title('ROC for {} for {} class'.format(label, i))\n",
    "    plt.legend(loc=\"lower right\")\n",
    "    plt.show()"
   ],
   "outputs": [
    {
     "data": {
      "text/plain": [
       "<Figure size 640x480 with 1 Axes>"
      ],
      "image/png": "[encoded data removed]"
     },
     "metadata": {},
     "output_type": "display_data"
    },
    {
     "data": {
      "text/plain": [
       "<Figure size 640x480 with 1 Axes>"
      ],
      "image/png": "[encoded data removed]"
     },
     "metadata": {},
     "output_type": "display_data"
    },
    {
     "data": {
      "text/plain": [
       "<Figure size 640x480 with 1 Axes>"
      ],
      "image/png": "[encoded data removed]"
     },
     "metadata": {},
     "output_type": "display_data"
    },
    {
     "data": {
      "text/plain": [
       "<Figure size 640x480 with 1 Axes>"
      ],
      "image/png": "[encoded data removed]"
     },
     "metadata": {},
     "output_type": "display_data"
    }
   ],
   "execution_count": 249
  },
  {
   "metadata": {},
   "cell_type": "markdown",
   "source": "### Wnioski"
  },
  {
   "metadata": {},
   "cell_type": "markdown",
   "source": [
    "Poddając analizie ramki danych df_f1 oraz df_acc, obrazujących miarę dokładności i miarę f dla wczytanego zestawu danych nasuwają się 2 wnioski.\n",
    "\n",
    "Wybór korzenia do tworzeniu sieci bayesa służacej jako metoda definiująca kolejność etykiet dla łańcucha klasyfikatorów ma istotny wpływ na dokładność predykcji kolejnych etykiet.\n",
    "\n",
    "Dzięki metodzie łańcucha klasyfikatorów uwzględniającego jedynie pary zależności miedzy etykietami, przy optymalnym wyborze korzenia można uzyskać lepszą dokładność wyników aniżeli za pomocą niezależnych od siebie klasyfikatorów etykiet.  \n",
    "\n",
    "Analiza krzywej ROC dla przykładowo wybranej etykiety 'Family' pokazuje, że dla każdej z klas uzyskano zadowalające wyniki predykcji. \n",
    "\n"
   ]
  }
 ]
}
