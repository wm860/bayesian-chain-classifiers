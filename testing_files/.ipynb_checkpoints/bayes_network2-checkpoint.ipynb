{
 "cells": [
  {
   "cell_type": "code",
   "execution_count": 1,
   "metadata": {
    "collapsed": true
   },
   "outputs": [
    {
     "name": "stdout",
     "output_type": "stream",
     "text": [
      "Informacja wzajemna między etykietami X i Y: 0.2590846367529438\n"
     ]
    }
   ],
   "source": [
    "import numpy as np\n",
    "\n",
    "def entropy(probabilities):\n",
    "    # Usunięcie zer z prawdopodobieństw, aby uniknąć problemu log(0)\n",
    "    probabilities = probabilities[probabilities != 0]\n",
    "    return -np.sum(probabilities * np.log2(probabilities))\n",
    "\n",
    "def mutual_information(probabilities_joint, probabilities_marginal_x, probabilities_marginal_y):\n",
    "    return entropy(probabilities_marginal_x) + entropy(probabilities_marginal_y) - entropy(probabilities_joint)\n",
    "\n",
    "# Przykładowe dane - prawdopodobieństwa wspólne, marginalne dla etykiet X i Y\n",
    "probabilities_joint = np.array([[0.2, 0.1],\n",
    "                                 [0.1, 0.2]])\n",
    "\n",
    "probabilities_marginal_X = np.array([0.3, 0.7])\n",
    "probabilities_marginal_Y = np.array([0.4, 0.6])\n",
    "\n",
    "# Obliczenie informacji wzajemnej\n",
    "mutual_info = mutual_information(probabilities_joint, probabilities_marginal_X, probabilities_marginal_Y)\n",
    "print(\"Informacja wzajemna między etykietami X i Y:\", mutual_info)\n"
   ]
  },
  {
   "cell_type": "code",
   "execution_count": null,
   "outputs": [],
   "source": [],
   "metadata": {
    "collapsed": false
   }
  }
 ],
 "metadata": {
  "kernelspec": {
   "display_name": "Python 3",
   "language": "python",
   "name": "python3"
  },
  "language_info": {
   "codemirror_mode": {
    "name": "ipython",
    "version": 2
   },
   "file_extension": ".py",
   "mimetype": "text/x-python",
   "name": "python",
   "nbconvert_exporter": "python",
   "pygments_lexer": "ipython2",
   "version": "2.7.6"
  }
 },
 "nbformat": 4,
 "nbformat_minor": 0
}
