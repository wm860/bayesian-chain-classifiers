{
 "cells": [
  {
   "cell_type": "code",
   "execution_count": 3,
   "metadata": {
    "collapsed": true
   },
   "outputs": [],
   "source": [
    "from scipy.io import arff\n",
    "import pandas as pd"
   ]
  },
  {
   "cell_type": "code",
   "execution_count": 7,
   "outputs": [],
   "source": [
    "data='./data_sets/amphibians/dataset.csv'"
   ],
   "metadata": {
    "collapsed": false
   }
  },
  {
   "cell_type": "code",
   "execution_count": 9,
   "outputs": [
    {
     "data": {
      "text/plain": "   ID Motorway   SR  NR  TR  VR  SUR1  SUR2  SUR3  UR  ...  BR  MR  CR  \\\n0   1       A1  600   1   1   4     6     2    10   0  ...   0   0   1   \n1   2       A1  700   1   5   1    10     6    10   3  ...   1   0   1   \n2   3       A1  200   1   5   1    10     6    10   3  ...   1   0   1   \n3   4       A1  300   1   5   0     6    10     2   3  ...   0   0   1   \n4   5       A1  600   2   1   4    10     2     6   0  ...   5   0   1   \n\n   Green frogs  Brown frogs  Common toad  Fire-bellied toad  Tree frog  \\\n0            0            0            0                  0          0   \n1            0            1            1                  0          0   \n2            0            1            1                  0          0   \n3            0            0            1                  0          0   \n4            0            1            1                  1          0   \n\n   Common newt  Great crested newt  \n0            0                   0  \n1            1                   0  \n2            1                   0  \n3            0                   0  \n4            1                   1  \n\n[5 rows x 23 columns]",
      "text/html": "<div>\n<style scoped>\n    .dataframe tbody tr th:only-of-type {\n        vertical-align: middle;\n    }\n\n    .dataframe tbody tr th {\n        vertical-align: top;\n    }\n\n    .dataframe thead th {\n        text-align: right;\n    }\n</style>\n<table border=\"1\" class=\"dataframe\">\n  <thead>\n    <tr style=\"text-align: right;\">\n      <th></th>\n      <th>ID</th>\n      <th>Motorway</th>\n      <th>SR</th>\n      <th>NR</th>\n      <th>TR</th>\n      <th>VR</th>\n      <th>SUR1</th>\n      <th>SUR2</th>\n      <th>SUR3</th>\n      <th>UR</th>\n      <th>...</th>\n      <th>BR</th>\n      <th>MR</th>\n      <th>CR</th>\n      <th>Green frogs</th>\n      <th>Brown frogs</th>\n      <th>Common toad</th>\n      <th>Fire-bellied toad</th>\n      <th>Tree frog</th>\n      <th>Common newt</th>\n      <th>Great crested newt</th>\n    </tr>\n  </thead>\n  <tbody>\n    <tr>\n      <th>0</th>\n      <td>1</td>\n      <td>A1</td>\n      <td>600</td>\n      <td>1</td>\n      <td>1</td>\n      <td>4</td>\n      <td>6</td>\n      <td>2</td>\n      <td>10</td>\n      <td>0</td>\n      <td>...</td>\n      <td>0</td>\n      <td>0</td>\n      <td>1</td>\n      <td>0</td>\n      <td>0</td>\n      <td>0</td>\n      <td>0</td>\n      <td>0</td>\n      <td>0</td>\n      <td>0</td>\n    </tr>\n    <tr>\n      <th>1</th>\n      <td>2</td>\n      <td>A1</td>\n      <td>700</td>\n      <td>1</td>\n      <td>5</td>\n      <td>1</td>\n      <td>10</td>\n      <td>6</td>\n      <td>10</td>\n      <td>3</td>\n      <td>...</td>\n      <td>1</td>\n      <td>0</td>\n      <td>1</td>\n      <td>0</td>\n      <td>1</td>\n      <td>1</td>\n      <td>0</td>\n      <td>0</td>\n      <td>1</td>\n      <td>0</td>\n    </tr>\n    <tr>\n      <th>2</th>\n      <td>3</td>\n      <td>A1</td>\n      <td>200</td>\n      <td>1</td>\n      <td>5</td>\n      <td>1</td>\n      <td>10</td>\n      <td>6</td>\n      <td>10</td>\n      <td>3</td>\n      <td>...</td>\n      <td>1</td>\n      <td>0</td>\n      <td>1</td>\n      <td>0</td>\n      <td>1</td>\n      <td>1</td>\n      <td>0</td>\n      <td>0</td>\n      <td>1</td>\n      <td>0</td>\n    </tr>\n    <tr>\n      <th>3</th>\n      <td>4</td>\n      <td>A1</td>\n      <td>300</td>\n      <td>1</td>\n      <td>5</td>\n      <td>0</td>\n      <td>6</td>\n      <td>10</td>\n      <td>2</td>\n      <td>3</td>\n      <td>...</td>\n      <td>0</td>\n      <td>0</td>\n      <td>1</td>\n      <td>0</td>\n      <td>0</td>\n      <td>1</td>\n      <td>0</td>\n      <td>0</td>\n      <td>0</td>\n      <td>0</td>\n    </tr>\n    <tr>\n      <th>4</th>\n      <td>5</td>\n      <td>A1</td>\n      <td>600</td>\n      <td>2</td>\n      <td>1</td>\n      <td>4</td>\n      <td>10</td>\n      <td>2</td>\n      <td>6</td>\n      <td>0</td>\n      <td>...</td>\n      <td>5</td>\n      <td>0</td>\n      <td>1</td>\n      <td>0</td>\n      <td>1</td>\n      <td>1</td>\n      <td>1</td>\n      <td>0</td>\n      <td>1</td>\n      <td>1</td>\n    </tr>\n  </tbody>\n</table>\n<p>5 rows × 23 columns</p>\n</div>"
     },
     "execution_count": 9,
     "metadata": {},
     "output_type": "execute_result"
    }
   ],
   "source": [
    "df = pd.read_csv(data, header=1,sep=';')\n",
    "df.head()"
   ],
   "metadata": {
    "collapsed": false
   }
  },
  {
   "cell_type": "code",
   "execution_count": 13,
   "outputs": [
    {
     "name": "stdout",
     "output_type": "stream",
     "text": [
      "<class 'pandas.core.frame.DataFrame'>\n",
      "RangeIndex: 189 entries, 0 to 188\n",
      "Data columns (total 23 columns):\n",
      " #   Column              Non-Null Count  Dtype \n",
      "---  ------              --------------  ----- \n",
      " 0   ID                  189 non-null    int64 \n",
      " 1   Motorway            189 non-null    object\n",
      " 2   SR                  189 non-null    int64 \n",
      " 3   NR                  189 non-null    int64 \n",
      " 4   TR                  189 non-null    int64 \n",
      " 5   VR                  189 non-null    int64 \n",
      " 6   SUR1                189 non-null    int64 \n",
      " 7   SUR2                189 non-null    int64 \n",
      " 8   SUR3                189 non-null    int64 \n",
      " 9   UR                  189 non-null    int64 \n",
      " 10  FR                  189 non-null    int64 \n",
      " 11  OR                  189 non-null    int64 \n",
      " 12  RR                  189 non-null    int64 \n",
      " 13  BR                  189 non-null    int64 \n",
      " 14  MR                  189 non-null    int64 \n",
      " 15  CR                  189 non-null    int64 \n",
      " 16  Green frogs         189 non-null    int64 \n",
      " 17  Brown frogs         189 non-null    int64 \n",
      " 18  Common toad         189 non-null    int64 \n",
      " 19  Fire-bellied toad   189 non-null    int64 \n",
      " 20  Tree frog           189 non-null    int64 \n",
      " 21  Common newt         189 non-null    int64 \n",
      " 22  Great crested newt  189 non-null    int64 \n",
      "dtypes: int64(22), object(1)\n",
      "memory usage: 34.1+ KB\n"
     ]
    }
   ],
   "source": [
    "df.shape\n",
    "df.info()"
   ],
   "metadata": {
    "collapsed": false
   }
  },
  {
   "cell_type": "code",
   "execution_count": 16,
   "outputs": [
    {
     "name": "stdout",
     "output_type": "stream",
     "text": [
      "There are 1 categorical variables\n",
      "\n",
      "The categorical variables are :\n",
      "\n",
      " ['Motorway']\n",
      "Motorway\n",
      "S52    109\n",
      "A1      80\n",
      "Name: count, dtype: int64\n"
     ]
    }
   ],
   "source": [
    "categorical = [var for var in df.columns if df[var].dtype=='O']\n",
    "print('There are {} categorical variables\\n'.format(len(categorical)))\n",
    "print('The categorical variables are :\\n\\n', categorical)\n",
    "for var in categorical:\n",
    "    print(df[var].value_counts())"
   ],
   "metadata": {
    "collapsed": false
   }
  },
  {
   "cell_type": "code",
   "execution_count": 18,
   "outputs": [
    {
     "name": "stdout",
     "output_type": "stream",
     "text": [
      "There are 22 numerical variables\n",
      "\n",
      "The numerical variables are : ['ID', 'SR', 'NR', 'TR', 'VR', 'SUR1', 'SUR2', 'SUR3', 'UR', 'FR', 'OR', 'RR', 'BR', 'MR', 'CR', 'Green frogs', 'Brown frogs', 'Common toad', 'Fire-bellied toad', 'Tree frog', 'Common newt', 'Great crested newt']\n",
      "ID\n",
      "1      1\n",
      "131    1\n",
      "122    1\n",
      "123    1\n",
      "124    1\n",
      "      ..\n",
      "66     1\n",
      "67     1\n",
      "68     1\n",
      "69     1\n",
      "189    1\n",
      "Name: count, Length: 189, dtype: int64\n",
      "SR\n",
      "300      47\n",
      "200      11\n",
      "1000     10\n",
      "500       8\n",
      "100       8\n",
      "         ..\n",
      "1300      1\n",
      "10050     1\n",
      "16000     1\n",
      "5000      1\n",
      "22000     1\n",
      "Name: count, Length: 66, dtype: int64\n",
      "NR\n",
      "1     148\n",
      "2      20\n",
      "3       7\n",
      "4       4\n",
      "6       3\n",
      "5       3\n",
      "7       1\n",
      "9       1\n",
      "10      1\n",
      "12      1\n",
      "Name: count, dtype: int64\n",
      "TR\n",
      "1     116\n",
      "12     23\n",
      "15     19\n",
      "5      12\n",
      "14     10\n",
      "11      4\n",
      "2       4\n",
      "7       1\n",
      "Name: count, dtype: int64\n",
      "VR\n",
      "1    55\n",
      "3    41\n",
      "2    35\n",
      "0    30\n",
      "4    28\n",
      "Name: count, dtype: int64\n",
      "SUR1\n",
      "2     70\n",
      "1     43\n",
      "10    30\n",
      "7     20\n",
      "6     19\n",
      "9      5\n",
      "14     1\n",
      "4      1\n",
      "Name: count, dtype: int64\n",
      "SUR2\n",
      "10    44\n",
      "2     41\n",
      "6     39\n",
      "1     36\n",
      "7     18\n",
      "9     10\n",
      "11     1\n",
      "Name: count, dtype: int64\n",
      "SUR3\n",
      "6     55\n",
      "10    45\n",
      "2     29\n",
      "1     29\n",
      "7     18\n",
      "9     10\n",
      "5      2\n",
      "11     1\n",
      "Name: count, dtype: int64\n",
      "UR\n",
      "0    130\n",
      "3     50\n",
      "1      9\n",
      "Name: count, dtype: int64\n",
      "FR\n",
      "0    125\n",
      "3     18\n",
      "1     16\n",
      "4     15\n",
      "2     15\n",
      "Name: count, dtype: int64\n",
      "OR\n",
      "100    141\n",
      "75      22\n",
      "50      16\n",
      "25       7\n",
      "99       2\n",
      "80       1\n",
      "Name: count, dtype: int64\n",
      "RR\n",
      "1     50\n",
      "0     47\n",
      "5     42\n",
      "2     39\n",
      "9      7\n",
      "10     4\n",
      "Name: count, dtype: int64\n",
      "BR\n",
      "1     62\n",
      "5     46\n",
      "0     39\n",
      "2     29\n",
      "9      7\n",
      "10     6\n",
      "Name: count, dtype: int64\n",
      "MR\n",
      "0    184\n",
      "2      4\n",
      "1      1\n",
      "Name: count, dtype: int64\n",
      "CR\n",
      "1    186\n",
      "2      3\n",
      "Name: count, dtype: int64\n",
      "Green frogs\n",
      "1    108\n",
      "0     81\n",
      "Name: count, dtype: int64\n",
      "Brown frogs\n",
      "1    148\n",
      "0     41\n",
      "Name: count, dtype: int64\n",
      "Common toad\n",
      "1    124\n",
      "0     65\n",
      "Name: count, dtype: int64\n",
      "Fire-bellied toad\n",
      "0    131\n",
      "1     58\n",
      "Name: count, dtype: int64\n",
      "Tree frog\n",
      "0    118\n",
      "1     71\n",
      "Name: count, dtype: int64\n",
      "Common newt\n",
      "0    131\n",
      "1     58\n",
      "Name: count, dtype: int64\n",
      "Great crested newt\n",
      "0    168\n",
      "1     21\n",
      "Name: count, dtype: int64\n"
     ]
    }
   ],
   "source": [
    "numerical = [var for var in df.columns if df[var].dtype!='O']\n",
    "print('There are {} numerical variables\\n'.format(len(numerical)))\n",
    "print('The numerical variables are :', numerical)\n",
    "for var in numerical:\n",
    "    print(df[var].value_counts())"
   ],
   "metadata": {
    "collapsed": false
   }
  },
  {
   "cell_type": "code",
   "execution_count": 29,
   "outputs": [
    {
     "data": {
      "text/plain": "    SR  NR  TR  VR  SUR1  SUR2  SUR3  UR  FR  OR  RR  BR  MR  CR\n0  600   1   1   4     6     2    10   0   0  50   0   0   0   1\n1  700   1   5   1    10     6    10   3   1  75   1   1   0   1\n2  200   1   5   1    10     6    10   3   4  75   1   1   0   1\n3  300   1   5   0     6    10     2   3   4  25   0   0   0   1\n4  600   2   1   4    10     2     6   0   0  99   0   5   0   1",
      "text/html": "<div>\n<style scoped>\n    .dataframe tbody tr th:only-of-type {\n        vertical-align: middle;\n    }\n\n    .dataframe tbody tr th {\n        vertical-align: top;\n    }\n\n    .dataframe thead th {\n        text-align: right;\n    }\n</style>\n<table border=\"1\" class=\"dataframe\">\n  <thead>\n    <tr style=\"text-align: right;\">\n      <th></th>\n      <th>SR</th>\n      <th>NR</th>\n      <th>TR</th>\n      <th>VR</th>\n      <th>SUR1</th>\n      <th>SUR2</th>\n      <th>SUR3</th>\n      <th>UR</th>\n      <th>FR</th>\n      <th>OR</th>\n      <th>RR</th>\n      <th>BR</th>\n      <th>MR</th>\n      <th>CR</th>\n    </tr>\n  </thead>\n  <tbody>\n    <tr>\n      <th>0</th>\n      <td>600</td>\n      <td>1</td>\n      <td>1</td>\n      <td>4</td>\n      <td>6</td>\n      <td>2</td>\n      <td>10</td>\n      <td>0</td>\n      <td>0</td>\n      <td>50</td>\n      <td>0</td>\n      <td>0</td>\n      <td>0</td>\n      <td>1</td>\n    </tr>\n    <tr>\n      <th>1</th>\n      <td>700</td>\n      <td>1</td>\n      <td>5</td>\n      <td>1</td>\n      <td>10</td>\n      <td>6</td>\n      <td>10</td>\n      <td>3</td>\n      <td>1</td>\n      <td>75</td>\n      <td>1</td>\n      <td>1</td>\n      <td>0</td>\n      <td>1</td>\n    </tr>\n    <tr>\n      <th>2</th>\n      <td>200</td>\n      <td>1</td>\n      <td>5</td>\n      <td>1</td>\n      <td>10</td>\n      <td>6</td>\n      <td>10</td>\n      <td>3</td>\n      <td>4</td>\n      <td>75</td>\n      <td>1</td>\n      <td>1</td>\n      <td>0</td>\n      <td>1</td>\n    </tr>\n    <tr>\n      <th>3</th>\n      <td>300</td>\n      <td>1</td>\n      <td>5</td>\n      <td>0</td>\n      <td>6</td>\n      <td>10</td>\n      <td>2</td>\n      <td>3</td>\n      <td>4</td>\n      <td>25</td>\n      <td>0</td>\n      <td>0</td>\n      <td>0</td>\n      <td>1</td>\n    </tr>\n    <tr>\n      <th>4</th>\n      <td>600</td>\n      <td>2</td>\n      <td>1</td>\n      <td>4</td>\n      <td>10</td>\n      <td>2</td>\n      <td>6</td>\n      <td>0</td>\n      <td>0</td>\n      <td>99</td>\n      <td>0</td>\n      <td>5</td>\n      <td>0</td>\n      <td>1</td>\n    </tr>\n  </tbody>\n</table>\n</div>"
     },
     "execution_count": 29,
     "metadata": {},
     "output_type": "execute_result"
    }
   ],
   "source": [
    "y = df[['Green frogs','Brown frogs','Common toad','Fire-bellied toad','Tree frog','Common newt','Great crested newt']]\n",
    "X = df.drop(['Green frogs','Brown frogs','Common toad','Fire-bellied toad','Tree frog','Common newt','Great crested newt','ID','Motorway'], axis=1)\n",
    "y.head()\n",
    "X.head()"
   ],
   "metadata": {
    "collapsed": false
   }
  },
  {
   "cell_type": "code",
   "execution_count": 26,
   "outputs": [
    {
     "data": {
      "text/plain": "((132, 14), (57, 14))"
     },
     "execution_count": 26,
     "metadata": {},
     "output_type": "execute_result"
    }
   ],
   "source": [
    "from sklearn.model_selection import train_test_split\n",
    "X_train, X_test, y_train, y_test = train_test_split(X, y, test_size = 0.3, random_state = 0)\n",
    "X_train.shape, X_test.shape"
   ],
   "metadata": {
    "collapsed": false
   }
  },
  {
   "cell_type": "code",
   "execution_count": 27,
   "outputs": [
    {
     "name": "stdout",
     "output_type": "stream",
     "text": [
      "Warning: No categorical columns found. Calling 'transform' will only return input data.\n"
     ]
    }
   ],
   "source": [
    "import category_encoders as ce\n",
    "encoder = ce.OneHotEncoder()\n",
    "X_train = encoder.fit_transform(X_train)\n",
    "X_test = encoder.transform(X_test)"
   ],
   "metadata": {
    "collapsed": false
   }
  },
  {
   "cell_type": "code",
   "execution_count": null,
   "outputs": [],
   "source": [],
   "metadata": {
    "collapsed": false
   }
  }
 ],
 "metadata": {
  "kernelspec": {
   "display_name": "Python 3",
   "language": "python",
   "name": "python3"
  },
  "language_info": {
   "codemirror_mode": {
    "name": "ipython",
    "version": 2
   },
   "file_extension": ".py",
   "mimetype": "text/x-python",
   "name": "python",
   "nbconvert_exporter": "python",
   "pygments_lexer": "ipython2",
   "version": "2.7.6"
  }
 },
 "nbformat": 4,
 "nbformat_minor": 0
}
