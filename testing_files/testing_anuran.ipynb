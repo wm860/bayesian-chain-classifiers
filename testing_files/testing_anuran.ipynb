{
 "cells": [
  {
   "cell_type": "code",
   "execution_count": 2,
   "metadata": {
    "collapsed": true
   },
   "outputs": [],
   "source": [
    "import pandas as pd"
   ]
  },
  {
   "cell_type": "code",
   "execution_count": 3,
   "outputs": [],
   "source": [
    "data='./data_sets/anuran/Frogs_MFCCs.csv'"
   ],
   "metadata": {
    "collapsed": false
   }
  },
  {
   "cell_type": "code",
   "execution_count": 4,
   "outputs": [
    {
     "data": {
      "text/plain": "   MFCCs_ 1  MFCCs_ 2  MFCCs_ 3  MFCCs_ 4  MFCCs_ 5  MFCCs_ 6  MFCCs_ 7  \\\n0       1.0  0.152936 -0.105586  0.200722  0.317201  0.260764  0.100945   \n1       1.0  0.171534 -0.098975  0.268425  0.338672  0.268353  0.060835   \n2       1.0  0.152317 -0.082973  0.287128  0.276014  0.189867  0.008714   \n3       1.0  0.224392  0.118985  0.329432  0.372088  0.361005  0.015501   \n4       1.0  0.087817 -0.068345  0.306967  0.330923  0.249144  0.006884   \n\n   MFCCs_ 8  MFCCs_ 9  MFCCs_10  ...  MFCCs_17  MFCCs_18  MFCCs_19  MFCCs_20  \\\n0 -0.150063 -0.171128  0.124676  ... -0.108351 -0.077623 -0.009568  0.057684   \n1 -0.222475 -0.207693  0.170883  ... -0.090974 -0.056510 -0.035303  0.020140   \n2 -0.242234 -0.219153  0.232538  ... -0.050691 -0.023590 -0.066722 -0.025083   \n3 -0.194347 -0.098181  0.270375  ... -0.136009 -0.177037 -0.130498 -0.054766   \n4 -0.265423 -0.172700  0.266434  ... -0.048885 -0.053074 -0.088550 -0.031346   \n\n   MFCCs_21  MFCCs_22           Family      Genus         Species  RecordID  \n0  0.118680  0.014038  Leptodactylidae  Adenomera  AdenomeraAndre         1  \n1  0.082263  0.029056  Leptodactylidae  Adenomera  AdenomeraAndre         1  \n2  0.099108  0.077162  Leptodactylidae  Adenomera  AdenomeraAndre         1  \n3 -0.018691  0.023954  Leptodactylidae  Adenomera  AdenomeraAndre         1  \n4  0.108610  0.079244  Leptodactylidae  Adenomera  AdenomeraAndre         1  \n\n[5 rows x 26 columns]",
      "text/html": "<div>\n<style scoped>\n    .dataframe tbody tr th:only-of-type {\n        vertical-align: middle;\n    }\n\n    .dataframe tbody tr th {\n        vertical-align: top;\n    }\n\n    .dataframe thead th {\n        text-align: right;\n    }\n</style>\n<table border=\"1\" class=\"dataframe\">\n  <thead>\n    <tr style=\"text-align: right;\">\n      <th></th>\n      <th>MFCCs_ 1</th>\n      <th>MFCCs_ 2</th>\n      <th>MFCCs_ 3</th>\n      <th>MFCCs_ 4</th>\n      <th>MFCCs_ 5</th>\n      <th>MFCCs_ 6</th>\n      <th>MFCCs_ 7</th>\n      <th>MFCCs_ 8</th>\n      <th>MFCCs_ 9</th>\n      <th>MFCCs_10</th>\n      <th>...</th>\n      <th>MFCCs_17</th>\n      <th>MFCCs_18</th>\n      <th>MFCCs_19</th>\n      <th>MFCCs_20</th>\n      <th>MFCCs_21</th>\n      <th>MFCCs_22</th>\n      <th>Family</th>\n      <th>Genus</th>\n      <th>Species</th>\n      <th>RecordID</th>\n    </tr>\n  </thead>\n  <tbody>\n    <tr>\n      <th>0</th>\n      <td>1.0</td>\n      <td>0.152936</td>\n      <td>-0.105586</td>\n      <td>0.200722</td>\n      <td>0.317201</td>\n      <td>0.260764</td>\n      <td>0.100945</td>\n      <td>-0.150063</td>\n      <td>-0.171128</td>\n      <td>0.124676</td>\n      <td>...</td>\n      <td>-0.108351</td>\n      <td>-0.077623</td>\n      <td>-0.009568</td>\n      <td>0.057684</td>\n      <td>0.118680</td>\n      <td>0.014038</td>\n      <td>Leptodactylidae</td>\n      <td>Adenomera</td>\n      <td>AdenomeraAndre</td>\n      <td>1</td>\n    </tr>\n    <tr>\n      <th>1</th>\n      <td>1.0</td>\n      <td>0.171534</td>\n      <td>-0.098975</td>\n      <td>0.268425</td>\n      <td>0.338672</td>\n      <td>0.268353</td>\n      <td>0.060835</td>\n      <td>-0.222475</td>\n      <td>-0.207693</td>\n      <td>0.170883</td>\n      <td>...</td>\n      <td>-0.090974</td>\n      <td>-0.056510</td>\n      <td>-0.035303</td>\n      <td>0.020140</td>\n      <td>0.082263</td>\n      <td>0.029056</td>\n      <td>Leptodactylidae</td>\n      <td>Adenomera</td>\n      <td>AdenomeraAndre</td>\n      <td>1</td>\n    </tr>\n    <tr>\n      <th>2</th>\n      <td>1.0</td>\n      <td>0.152317</td>\n      <td>-0.082973</td>\n      <td>0.287128</td>\n      <td>0.276014</td>\n      <td>0.189867</td>\n      <td>0.008714</td>\n      <td>-0.242234</td>\n      <td>-0.219153</td>\n      <td>0.232538</td>\n      <td>...</td>\n      <td>-0.050691</td>\n      <td>-0.023590</td>\n      <td>-0.066722</td>\n      <td>-0.025083</td>\n      <td>0.099108</td>\n      <td>0.077162</td>\n      <td>Leptodactylidae</td>\n      <td>Adenomera</td>\n      <td>AdenomeraAndre</td>\n      <td>1</td>\n    </tr>\n    <tr>\n      <th>3</th>\n      <td>1.0</td>\n      <td>0.224392</td>\n      <td>0.118985</td>\n      <td>0.329432</td>\n      <td>0.372088</td>\n      <td>0.361005</td>\n      <td>0.015501</td>\n      <td>-0.194347</td>\n      <td>-0.098181</td>\n      <td>0.270375</td>\n      <td>...</td>\n      <td>-0.136009</td>\n      <td>-0.177037</td>\n      <td>-0.130498</td>\n      <td>-0.054766</td>\n      <td>-0.018691</td>\n      <td>0.023954</td>\n      <td>Leptodactylidae</td>\n      <td>Adenomera</td>\n      <td>AdenomeraAndre</td>\n      <td>1</td>\n    </tr>\n    <tr>\n      <th>4</th>\n      <td>1.0</td>\n      <td>0.087817</td>\n      <td>-0.068345</td>\n      <td>0.306967</td>\n      <td>0.330923</td>\n      <td>0.249144</td>\n      <td>0.006884</td>\n      <td>-0.265423</td>\n      <td>-0.172700</td>\n      <td>0.266434</td>\n      <td>...</td>\n      <td>-0.048885</td>\n      <td>-0.053074</td>\n      <td>-0.088550</td>\n      <td>-0.031346</td>\n      <td>0.108610</td>\n      <td>0.079244</td>\n      <td>Leptodactylidae</td>\n      <td>Adenomera</td>\n      <td>AdenomeraAndre</td>\n      <td>1</td>\n    </tr>\n  </tbody>\n</table>\n<p>5 rows × 26 columns</p>\n</div>"
     },
     "execution_count": 4,
     "metadata": {},
     "output_type": "execute_result"
    }
   ],
   "source": [
    "df = pd.read_csv(data)\n",
    "df.head()"
   ],
   "metadata": {
    "collapsed": false
   }
  },
  {
   "cell_type": "code",
   "execution_count": 211,
   "outputs": [
    {
     "name": "stdout",
     "output_type": "stream",
     "text": [
      "<class 'pandas.core.frame.DataFrame'>\n",
      "RangeIndex: 7195 entries, 0 to 7194\n",
      "Data columns (total 26 columns):\n",
      " #   Column    Non-Null Count  Dtype  \n",
      "---  ------    --------------  -----  \n",
      " 0   MFCCs_ 1  7195 non-null   float64\n",
      " 1   MFCCs_ 2  7195 non-null   float64\n",
      " 2   MFCCs_ 3  7195 non-null   float64\n",
      " 3   MFCCs_ 4  7195 non-null   float64\n",
      " 4   MFCCs_ 5  7195 non-null   float64\n",
      " 5   MFCCs_ 6  7195 non-null   float64\n",
      " 6   MFCCs_ 7  7195 non-null   float64\n",
      " 7   MFCCs_ 8  7195 non-null   float64\n",
      " 8   MFCCs_ 9  7195 non-null   float64\n",
      " 9   MFCCs_10  7195 non-null   float64\n",
      " 10  MFCCs_11  7195 non-null   float64\n",
      " 11  MFCCs_12  7195 non-null   float64\n",
      " 12  MFCCs_13  7195 non-null   float64\n",
      " 13  MFCCs_14  7195 non-null   float64\n",
      " 14  MFCCs_15  7195 non-null   float64\n",
      " 15  MFCCs_16  7195 non-null   float64\n",
      " 16  MFCCs_17  7195 non-null   float64\n",
      " 17  MFCCs_18  7195 non-null   float64\n",
      " 18  MFCCs_19  7195 non-null   float64\n",
      " 19  MFCCs_20  7195 non-null   float64\n",
      " 20  MFCCs_21  7195 non-null   float64\n",
      " 21  MFCCs_22  7195 non-null   float64\n",
      " 22  Family    7195 non-null   object \n",
      " 23  Genus     7195 non-null   object \n",
      " 24  Species   7195 non-null   object \n",
      " 25  RecordID  7195 non-null   int64  \n",
      "dtypes: float64(22), int64(1), object(3)\n",
      "memory usage: 1.4+ MB\n"
     ]
    }
   ],
   "source": [
    "df.shape\n",
    "df.info()"
   ],
   "metadata": {
    "collapsed": false
   }
  },
  {
   "cell_type": "code",
   "execution_count": 212,
   "outputs": [
    {
     "name": "stdout",
     "output_type": "stream",
     "text": [
      "There are 3 categorical variables\n",
      "\n",
      "The categorical variables are :\n",
      "\n",
      " ['Family', 'Genus', 'Species']\n",
      "Family\n",
      "Leptodactylidae    4420\n",
      "Hylidae            2165\n",
      "Dendrobatidae       542\n",
      "Bufonidae            68\n",
      "Name: count, dtype: int64\n",
      "Genus\n",
      "Adenomera        4150\n",
      "Hypsiboas        1593\n",
      "Ameerega          542\n",
      "Dendropsophus     310\n",
      "Leptodactylus     270\n",
      "Scinax            148\n",
      "Osteocephalus     114\n",
      "Rhinella           68\n",
      "Name: count, dtype: int64\n",
      "Species\n",
      "AdenomeraHylaedactylus    3478\n",
      "HypsiboasCordobae         1121\n",
      "AdenomeraAndre             672\n",
      "Ameeregatrivittata         542\n",
      "HypsiboasCinerascens       472\n",
      "HylaMinuta                 310\n",
      "LeptodactylusFuscus        270\n",
      "ScinaxRuber                148\n",
      "OsteocephalusOophagus      114\n",
      "Rhinellagranulosa           68\n",
      "Name: count, dtype: int64\n"
     ]
    }
   ],
   "source": [
    "categorical = [var for var in df.columns if df[var].dtype=='O']\n",
    "print('There are {} categorical variables\\n'.format(len(categorical)))\n",
    "print('The categorical variables are :\\n\\n', categorical)\n",
    "for var in categorical:\n",
    "    print(df[var].value_counts())"
   ],
   "metadata": {
    "collapsed": false
   }
  },
  {
   "cell_type": "code",
   "execution_count": 213,
   "outputs": [
    {
     "name": "stdout",
     "output_type": "stream",
     "text": [
      "There are 23 numerical variables\n",
      "\n",
      "The numerical variables are : ['MFCCs_ 1', 'MFCCs_ 2', 'MFCCs_ 3', 'MFCCs_ 4', 'MFCCs_ 5', 'MFCCs_ 6', 'MFCCs_ 7', 'MFCCs_ 8', 'MFCCs_ 9', 'MFCCs_10', 'MFCCs_11', 'MFCCs_12', 'MFCCs_13', 'MFCCs_14', 'MFCCs_15', 'MFCCs_16', 'MFCCs_17', 'MFCCs_18', 'MFCCs_19', 'MFCCs_20', 'MFCCs_21', 'MFCCs_22', 'RecordID']\n",
      "MFCCs_ 1\n",
      "1.000000    6947\n",
      "0.305268       1\n",
      "0.447274       1\n",
      "0.882420       1\n",
      "0.956783       1\n",
      "            ... \n",
      "0.870799       1\n",
      "0.428189       1\n",
      "0.487819       1\n",
      "0.517699       1\n",
      "0.552979       1\n",
      "Name: count, Length: 249, dtype: int64\n",
      "MFCCs_ 2\n",
      " 1.000000    56\n",
      " 0.152936     1\n",
      " 0.226334     1\n",
      " 0.173413     1\n",
      " 0.059099     1\n",
      "             ..\n",
      " 0.111218     1\n",
      " 0.101349     1\n",
      " 0.219812     1\n",
      " 0.117644     1\n",
      "-0.508833     1\n",
      "Name: count, Length: 7140, dtype: int64\n",
      "MFCCs_ 3\n",
      " 1.000000    170\n",
      "-0.105586      1\n",
      " 0.215908      1\n",
      " 0.119516      1\n",
      " 0.146978      1\n",
      "            ... \n",
      " 0.089000      1\n",
      " 0.113020      1\n",
      " 0.164318      1\n",
      " 0.090409      1\n",
      "-0.324106      1\n",
      "Name: count, Length: 7026, dtype: int64\n",
      "MFCCs_ 4\n",
      "1.000000    21\n",
      "0.200722     1\n",
      "0.481503     1\n",
      "0.283708     1\n",
      "0.333505     1\n",
      "            ..\n",
      "0.614661     1\n",
      "0.570468     1\n",
      "0.606544     1\n",
      "0.657407     1\n",
      "0.062068     1\n",
      "Name: count, Length: 7175, dtype: int64\n",
      "MFCCs_ 5\n",
      "0.317201    1\n",
      "0.040976    1\n",
      "0.240444    1\n",
      "0.204361    1\n",
      "0.193401    1\n",
      "           ..\n",
      "0.175173    1\n",
      "0.187796    1\n",
      "0.241409    1\n",
      "0.159004    1\n",
      "0.078211    1\n",
      "Name: count, Length: 7195, dtype: int64\n",
      "MFCCs_ 6\n",
      " 0.260764    1\n",
      " 0.116133    1\n",
      " 0.034440    1\n",
      "-0.000606    1\n",
      " 0.037801    1\n",
      "            ..\n",
      "-0.025591    1\n",
      "-0.015486    1\n",
      "-0.061044    1\n",
      "-0.056338    1\n",
      " 0.397188    1\n",
      "Name: count, Length: 7195, dtype: int64\n",
      "MFCCs_ 7\n",
      " 0.100945    1\n",
      " 0.245736    1\n",
      "-0.068245    1\n",
      "-0.053292    1\n",
      "-0.026041    1\n",
      "            ..\n",
      "-0.098955    1\n",
      "-0.165401    1\n",
      "-0.121993    1\n",
      "-0.169671    1\n",
      " 0.094596    1\n",
      "Name: count, Length: 7195, dtype: int64\n",
      "MFCCs_ 8\n",
      "-0.150063    1\n",
      " 0.133220    1\n",
      "-0.019093    1\n",
      " 0.068172    1\n",
      "-0.033759    1\n",
      "            ..\n",
      " 0.147215    1\n",
      " 0.166812    1\n",
      " 0.188929    1\n",
      " 0.108672    1\n",
      "-0.117672    1\n",
      "Name: count, Length: 7195, dtype: int64\n",
      "MFCCs_ 9\n",
      "-0.171128    1\n",
      " 0.100698    1\n",
      " 0.116335    1\n",
      " 0.193358    1\n",
      " 0.081015    1\n",
      "            ..\n",
      " 0.288600    1\n",
      " 0.306627    1\n",
      " 0.384096    1\n",
      " 0.249082    1\n",
      " 0.058874    1\n",
      "Name: count, Length: 7195, dtype: int64\n",
      "MFCCs_10\n",
      " 0.124676    1\n",
      " 0.099051    1\n",
      " 0.098293    1\n",
      " 0.055654    1\n",
      " 0.178606    1\n",
      "            ..\n",
      "-0.093572    1\n",
      "-0.103812    1\n",
      "-0.058707    1\n",
      "-0.121256    1\n",
      " 0.076180    1\n",
      "Name: count, Length: 7195, dtype: int64\n",
      "MFCCs_11\n",
      " 0.188654    1\n",
      "-0.079996    1\n",
      "-0.135548    1\n",
      "-0.178175    1\n",
      "-0.061485    1\n",
      "            ..\n",
      "-0.285470    1\n",
      "-0.362411    1\n",
      "-0.367397    1\n",
      "-0.323374    1\n",
      " 0.072347    1\n",
      "Name: count, Length: 7195, dtype: int64\n",
      "MFCCs_12\n",
      "-0.075622    1\n",
      "-0.173897    1\n",
      "-0.122890    1\n",
      "-0.052360    1\n",
      "-0.153357    1\n",
      "            ..\n",
      " 0.167762    1\n",
      " 0.142121    1\n",
      " 0.193162    1\n",
      " 0.178756    1\n",
      " 0.002760    1\n",
      "Name: count, Length: 7195, dtype: int64\n",
      "MFCCs_13\n",
      "-0.156436    1\n",
      "-0.032843    1\n",
      " 0.180720    1\n",
      " 0.175255    1\n",
      " 0.132721    1\n",
      "            ..\n",
      " 0.273186    1\n",
      " 0.349236    1\n",
      " 0.364434    1\n",
      " 0.295155    1\n",
      "-0.150554    1\n",
      "Name: count, Length: 7195, dtype: int64\n",
      "MFCCs_14\n",
      " 0.082245    1\n",
      " 0.023477    1\n",
      " 0.201422    1\n",
      " 0.055706    1\n",
      " 0.213888    1\n",
      "            ..\n",
      "-0.132440    1\n",
      "-0.138307    1\n",
      "-0.150168    1\n",
      "-0.145426    1\n",
      "-0.073415    1\n",
      "Name: count, Length: 7195, dtype: int64\n",
      "MFCCs_15\n",
      " 0.135752    1\n",
      "-0.051966    1\n",
      "-0.081474    1\n",
      "-0.145257    1\n",
      "-0.074169    1\n",
      "            ..\n",
      "-0.187169    1\n",
      "-0.238531    1\n",
      "-0.242727    1\n",
      "-0.204528    1\n",
      " 0.042517    1\n",
      "Name: count, Length: 7195, dtype: int64\n",
      "MFCCs_16\n",
      "-0.024017    1\n",
      "-0.019670    1\n",
      "-0.134784    1\n",
      "-0.047383    1\n",
      "-0.160329    1\n",
      "            ..\n",
      " 0.091404    1\n",
      " 0.093292    1\n",
      " 0.070054    1\n",
      " 0.060286    1\n",
      " 0.004158    1\n",
      "Name: count, Length: 7195, dtype: int64\n",
      "MFCCs_17\n",
      "-0.108351    1\n",
      " 0.097285    1\n",
      " 0.065585    1\n",
      " 0.093307    1\n",
      " 0.047530    1\n",
      "            ..\n",
      " 0.123237    1\n",
      " 0.144292    1\n",
      " 0.127983    1\n",
      " 0.107277    1\n",
      " 0.061455    1\n",
      "Name: count, Length: 7195, dtype: int64\n",
      "MFCCs_18\n",
      "-0.077623    1\n",
      " 0.094750    1\n",
      " 0.181239    1\n",
      " 0.084058    1\n",
      " 0.127015    1\n",
      "            ..\n",
      " 0.006290    1\n",
      "-0.043537    1\n",
      "-0.004386    1\n",
      "-0.010965    1\n",
      " 0.072983    1\n",
      "Name: count, Length: 7195, dtype: int64\n",
      "MFCCs_19\n",
      "-0.009568    1\n",
      " 0.047882    1\n",
      " 0.104799    1\n",
      "-0.006647    1\n",
      " 0.038469    1\n",
      "            ..\n",
      "-0.053674    1\n",
      "-0.132972    1\n",
      "-0.099154    1\n",
      "-0.046611    1\n",
      "-0.003980    1\n",
      "Name: count, Length: 7195, dtype: int64\n",
      "MFCCs_20\n",
      " 0.057684    1\n",
      " 0.006740    1\n",
      "-0.040598    1\n",
      "-0.056351    1\n",
      "-0.033199    1\n",
      "            ..\n",
      "-0.085337    1\n",
      "-0.120230    1\n",
      "-0.112459    1\n",
      "-0.052163    1\n",
      " 0.031560    1\n",
      "Name: count, Length: 7195, dtype: int64\n",
      "MFCCs_21\n",
      " 0.118680    1\n",
      "-0.050198    1\n",
      "-0.127838    1\n",
      "-0.039438    1\n",
      "-0.095767    1\n",
      "            ..\n",
      " 0.087196    1\n",
      " 0.110869    1\n",
      " 0.089613    1\n",
      " 0.097650    1\n",
      "-0.029355    1\n",
      "Name: count, Length: 7195, dtype: int64\n",
      "MFCCs_22\n",
      " 0.014038    1\n",
      "-0.055385    1\n",
      "-0.014190    1\n",
      " 0.060520    1\n",
      "-0.036523    1\n",
      "            ..\n",
      " 0.105284    1\n",
      " 0.127765    1\n",
      " 0.084666    1\n",
      " 0.088575    1\n",
      "-0.087910    1\n",
      "Name: count, Length: 7195, dtype: int64\n",
      "RecordID\n",
      "22    458\n",
      "15    449\n",
      "24    437\n",
      "19    391\n",
      "8     372\n",
      "21    368\n",
      "41    366\n",
      "18    339\n",
      "42    329\n",
      "40    326\n",
      "23    308\n",
      "20    304\n",
      "36    259\n",
      "47    205\n",
      "14    199\n",
      "13    163\n",
      "11    157\n",
      "37    145\n",
      "17    137\n",
      "43    100\n",
      "10     96\n",
      "4      88\n",
      "16     88\n",
      "9      68\n",
      "12     58\n",
      "38     58\n",
      "28     58\n",
      "49     56\n",
      "50     55\n",
      "2      54\n",
      "1      52\n",
      "56     52\n",
      "53     45\n",
      "6      43\n",
      "35     39\n",
      "27     39\n",
      "58     37\n",
      "32     36\n",
      "34     32\n",
      "25     30\n",
      "45     28\n",
      "30     25\n",
      "5      24\n",
      "3      22\n",
      "46     22\n",
      "59     21\n",
      "31     21\n",
      "60     20\n",
      "57     18\n",
      "7      17\n",
      "44     15\n",
      "26     14\n",
      "51     12\n",
      "39     10\n",
      "33      9\n",
      "52      8\n",
      "29      7\n",
      "48      3\n",
      "54      2\n",
      "55      1\n",
      "Name: count, dtype: int64\n"
     ]
    }
   ],
   "source": [
    "numerical = [var for var in df.columns if df[var].dtype!='O']\n",
    "print('There are {} numerical variables\\n'.format(len(numerical)))\n",
    "print('The numerical variables are :', numerical)\n",
    "for var in numerical:\n",
    "    print(df[var].value_counts())"
   ],
   "metadata": {
    "collapsed": false
   }
  },
  {
   "cell_type": "code",
   "execution_count": 214,
   "outputs": [
    {
     "data": {
      "text/plain": "            Family      Genus         Species\n0  Leptodactylidae  Adenomera  AdenomeraAndre\n1  Leptodactylidae  Adenomera  AdenomeraAndre\n2  Leptodactylidae  Adenomera  AdenomeraAndre\n3  Leptodactylidae  Adenomera  AdenomeraAndre\n4  Leptodactylidae  Adenomera  AdenomeraAndre",
      "text/html": "<div>\n<style scoped>\n    .dataframe tbody tr th:only-of-type {\n        vertical-align: middle;\n    }\n\n    .dataframe tbody tr th {\n        vertical-align: top;\n    }\n\n    .dataframe thead th {\n        text-align: right;\n    }\n</style>\n<table border=\"1\" class=\"dataframe\">\n  <thead>\n    <tr style=\"text-align: right;\">\n      <th></th>\n      <th>Family</th>\n      <th>Genus</th>\n      <th>Species</th>\n    </tr>\n  </thead>\n  <tbody>\n    <tr>\n      <th>0</th>\n      <td>Leptodactylidae</td>\n      <td>Adenomera</td>\n      <td>AdenomeraAndre</td>\n    </tr>\n    <tr>\n      <th>1</th>\n      <td>Leptodactylidae</td>\n      <td>Adenomera</td>\n      <td>AdenomeraAndre</td>\n    </tr>\n    <tr>\n      <th>2</th>\n      <td>Leptodactylidae</td>\n      <td>Adenomera</td>\n      <td>AdenomeraAndre</td>\n    </tr>\n    <tr>\n      <th>3</th>\n      <td>Leptodactylidae</td>\n      <td>Adenomera</td>\n      <td>AdenomeraAndre</td>\n    </tr>\n    <tr>\n      <th>4</th>\n      <td>Leptodactylidae</td>\n      <td>Adenomera</td>\n      <td>AdenomeraAndre</td>\n    </tr>\n  </tbody>\n</table>\n</div>"
     },
     "execution_count": 214,
     "metadata": {},
     "output_type": "execute_result"
    }
   ],
   "source": [
    "y = df[['Family', 'Genus', 'Species']]\n",
    "X = df.drop(['Family', 'Genus', 'Species','RecordID'], axis=1)\n",
    "y.head()\n",
    "#X.head()"
   ],
   "metadata": {
    "collapsed": false
   }
  },
  {
   "cell_type": "code",
   "execution_count": 218,
   "outputs": [
    {
     "name": "stdout",
     "output_type": "stream",
     "text": [
      "<class 'pandas.core.frame.DataFrame'>\n"
     ]
    }
   ],
   "source": [
    "from sklearn.model_selection import train_test_split\n",
    "X_train, X_test, y_train, y_test = train_test_split(X, y, test_size = 0.2, random_state=None)\n",
    "X_train.shape, X_test.shape\n",
    "print(type(X_train))"
   ],
   "metadata": {
    "collapsed": false
   }
  },
  {
   "cell_type": "code",
   "execution_count": 216,
   "outputs": [],
   "source": [
    "# import category_encoders as ce\n",
    "# encoder = ce.OneHotEncoder()\n",
    "# X_train = encoder.fit_transform(X_train)\n",
    "# X_test = encoder.transform(X_test)"
   ],
   "metadata": {
    "collapsed": false
   }
  },
  {
   "cell_type": "code",
   "execution_count": 217,
   "outputs": [
    {
     "name": "stdout",
     "output_type": "stream",
     "text": [
      "0.9075747046560111\n"
     ]
    }
   ],
   "source": [
    "from sklearn.naive_bayes import GaussianNB\n",
    "from sklearn.metrics import f1_score, accuracy_score\n",
    "\n",
    "class_name = 'Species'\n",
    "\n",
    "y_pred = GaussianNB().fit(X_train, y_train[class_name]).predict(X_test)\n",
    "#f = f1_score(y_test[class_name], y_pred)\n",
    "a = accuracy_score(y_test[class_name], y_pred)\n",
    "print(a)"
   ],
   "metadata": {
    "collapsed": false
   }
  },
  {
   "cell_type": "code",
   "execution_count": 220,
   "outputs": [
    {
     "name": "stdout",
     "output_type": "stream",
     "text": [
      "Species\n",
      "AdenomeraHylaedactylus    719\n",
      "HypsiboasCordobae         230\n",
      "AdenomeraAndre            122\n",
      "Ameeregatrivittata        119\n",
      "HypsiboasCinerascens       78\n",
      "HylaMinuta                 60\n",
      "LeptodactylusFuscus        56\n",
      "ScinaxRuber                24\n",
      "OsteocephalusOophagus      23\n",
      "Rhinellagranulosa           8\n",
      "Name: count, dtype: int64\n"
     ]
    }
   ],
   "source": [
    "print(y_test[class_name].value_counts())"
   ],
   "metadata": {
    "collapsed": false
   }
  },
  {
   "cell_type": "markdown",
   "source": [
    "print(y_pred)\n"
   ],
   "metadata": {
    "collapsed": false
   }
  },
  {
   "cell_type": "code",
   "execution_count": 222,
   "outputs": [
    {
     "ename": "AttributeError",
     "evalue": "'numpy.ndarray' object has no attribute 'value_counts'",
     "output_type": "error",
     "traceback": [
      "\u001B[1;31m---------------------------------------------------------------------------\u001B[0m",
      "\u001B[1;31mAttributeError\u001B[0m                            Traceback (most recent call last)",
      "Cell \u001B[1;32mIn[222], line 1\u001B[0m\n\u001B[1;32m----> 1\u001B[0m \u001B[38;5;28mprint\u001B[39m(\u001B[43my_pred\u001B[49m\u001B[38;5;241;43m.\u001B[39;49m\u001B[43mvalue_counts\u001B[49m())\n",
      "\u001B[1;31mAttributeError\u001B[0m: 'numpy.ndarray' object has no attribute 'value_counts'"
     ]
    }
   ],
   "source": [
    "print(y_pred.value_counts())\n"
   ],
   "metadata": {
    "collapsed": false
   }
  },
  {
   "cell_type": "code",
   "execution_count": null,
   "outputs": [],
   "source": [],
   "metadata": {
    "collapsed": false
   }
  }
 ],
 "metadata": {
  "kernelspec": {
   "display_name": "Python 3",
   "language": "python",
   "name": "python3"
  },
  "language_info": {
   "codemirror_mode": {
    "name": "ipython",
    "version": 2
   },
   "file_extension": ".py",
   "mimetype": "text/x-python",
   "name": "python",
   "nbconvert_exporter": "python",
   "pygments_lexer": "ipython2",
   "version": "2.7.6"
  }
 },
 "nbformat": 4,
 "nbformat_minor": 0
}
